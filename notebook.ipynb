{
 "cells": [
  {
   "cell_type": "markdown",
   "metadata": {},
   "source": [
    "## Business understanding\n",
    "Water is a basic need and right for all human beings and access to clean and safe water remains a significant challenge in Tanzania, a country with a population exceeding 57 million people. While thousands of water points (wells and pumps) have been installed across the nation, not all of them function reliably. Many are partially functional, in need of repair, or completely non-functional. This undermines efforts to provide consistent access to water, particularly in rural areas. Using data on pump type, installation year, geographic location, and other related attributes, we can build a predictive model that classifies the condition of a water well. Such a system would help prioritize repairs, allocate resources effectively, and guide future infrastructure investments.\n",
    "\n",
    "## Problem statement\n",
    "The traditional model for water infrastructure management in Tanzania is reactive: a pump is serviced or repaired only after it has completely failed. This approach is inherently inefficient and costly, leading to prolonged periods without access to water for communities and significant expense for emergency repairs\n",
    "\n",
    "This project is determined to build predictive model that represents a fundamental paradigm shift to proactive and data driven maintenance. and by leveraging historical data and machine learning, the model can anticipate which water points are at risk of failure or are already in a state of disrepair, enabling maintenance crews to intervene before a complete breakdown occurs.\n",
    "\n",
    "## Objectives\n",
    "The most critical and actionable objective of this project is to:\n",
    "* Accurately identify water points that are currently functional but need repair\n",
    "* Identify patterns in non-functional wells to inform better design, placement, and maintenance of new water points.\n",
    "\n",
    "## Metrics of success\n",
    "The success of the model will be evaluated using classification metrics:\n",
    "\n",
    "* Accuracy\n",
    "* precision and recall\n",
    "* F1 score\n",
    "* Confusion matrix"
   ]
  },
  {
   "cell_type": "markdown",
   "metadata": {},
   "source": [
    "## Data understanding\n",
    "The dataset from the Tanzania Ministry of Water provides records of waterpoints across the country. Each record describes the physical, technical, financial, and management aspects of a waterpoint, alongside its operating condition (target variable: functional, needs repair, or non-functional). The features provided can be grouped as follows:\n",
    "\n",
    "1. Water availability & technical\n",
    " * amount_tsh: total static head (amount of water available)\n",
    " * gps_height: altitude of the well\n",
    " * construction_year: year the waterpoint was built\n",
    " * num_private: private codes/indicators (often missing or unused)\n",
    " \n",
    "2. Location & geography\n",
    " * longitude, latitude: GPS coordinates\n",
    " * basin: geographic water basin\n",
    " * subvillage, region, region_code, district_code, lga, ward: administrative/geographic locations\n",
    " \n",
    "3. Funding & installation\n",
    " * funder: who funded the well\n",
    " * installer: organization that installed the well\n",
    " * scheme_name: water scheme name\n",
    " * scheme_management: operator of the scheme\n",
    " \n",
    "4. Management & governance\n",
    "\n",
    " * management, management_group: how the waterpoint is managed\n",
    " * public_meeting: whether a public meeting was held\n",
    " * permit: whether the waterpoint is permitted\n",
    " * recorded_by: group recording the data\n",
    " \n",
    "5. Water extraction & source\n",
    "\n",
    " * extraction_type, extraction_type_group, extraction_type_class: type of pump/extraction system\n",
    " * source, source_type, source_class: water source information\n",
    "\n",
    "6. Water quality & quantity\n",
    " * water_quality, quality_group: reported quality of the water\n",
    " * quantity, quantity_group: availability of water\n",
    "\n",
    "7. Payment & financials\n",
    " * payment, payment_type: cost of water use\n",
    "\n",
    "8. Waterpoint details\n",
    " * waterpoint_type, waterpoint_type_group: kind of waterpoint\n",
    " * wpt_name: waterpoint name (if present)\n",
    " * date_recorded: when the record was entered\n",
    " * population: number of people depending on the waterpoint"
   ]
  },
  {
   "cell_type": "markdown",
   "metadata": {},
   "source": [
    "# Data preparation"
   ]
  },
  {
   "cell_type": "code",
   "execution_count": 687,
   "metadata": {},
   "outputs": [],
   "source": [
    "# importing the relevant libraries\n",
    "import pandas as pd \n",
    "import matplotlib.pyplot as plt\n",
    "import seaborn as sns\n"
   ]
  },
  {
   "cell_type": "code",
   "execution_count": 688,
   "metadata": {},
   "outputs": [],
   "source": [
    "# loading the datasets\n",
    "trainig_values_df= pd.read_csv(\"training_set_values.csv\", index_col= \"id\")\n",
    "training_labels_df= pd.read_csv(\"training_set_labels.csv\", index_col= \"id\")\n",
    "test_values_df= pd.read_csv(\"test_set_values.csv\")\n",
    "\n"
   ]
  },
  {
   "cell_type": "code",
   "execution_count": null,
   "metadata": {},
   "outputs": [],
   "source": [
    "# reading the training set values df\n",
    "trainig_values_df.shape"
   ]
  },
  {
   "cell_type": "code",
   "execution_count": 689,
   "metadata": {},
   "outputs": [
    {
     "data": {
      "text/html": [
       "<div>\n",
       "<style scoped>\n",
       "    .dataframe tbody tr th:only-of-type {\n",
       "        vertical-align: middle;\n",
       "    }\n",
       "\n",
       "    .dataframe tbody tr th {\n",
       "        vertical-align: top;\n",
       "    }\n",
       "\n",
       "    .dataframe thead th {\n",
       "        text-align: right;\n",
       "    }\n",
       "</style>\n",
       "<table border=\"1\" class=\"dataframe\">\n",
       "  <thead>\n",
       "    <tr style=\"text-align: right;\">\n",
       "      <th></th>\n",
       "      <th>status_group</th>\n",
       "    </tr>\n",
       "    <tr>\n",
       "      <th>id</th>\n",
       "      <th></th>\n",
       "    </tr>\n",
       "  </thead>\n",
       "  <tbody>\n",
       "    <tr>\n",
       "      <th>69572</th>\n",
       "      <td>functional</td>\n",
       "    </tr>\n",
       "    <tr>\n",
       "      <th>8776</th>\n",
       "      <td>functional</td>\n",
       "    </tr>\n",
       "    <tr>\n",
       "      <th>34310</th>\n",
       "      <td>functional</td>\n",
       "    </tr>\n",
       "    <tr>\n",
       "      <th>67743</th>\n",
       "      <td>non functional</td>\n",
       "    </tr>\n",
       "    <tr>\n",
       "      <th>19728</th>\n",
       "      <td>functional</td>\n",
       "    </tr>\n",
       "  </tbody>\n",
       "</table>\n",
       "</div>"
      ],
      "text/plain": [
       "         status_group\n",
       "id                   \n",
       "69572      functional\n",
       "8776       functional\n",
       "34310      functional\n",
       "67743  non functional\n",
       "19728      functional"
      ]
     },
     "execution_count": 689,
     "metadata": {},
     "output_type": "execute_result"
    }
   ],
   "source": [
    "training_labels_df.head()"
   ]
  },
  {
   "cell_type": "code",
   "execution_count": 690,
   "metadata": {},
   "outputs": [
    {
     "data": {
      "text/html": [
       "<div>\n",
       "<style scoped>\n",
       "    .dataframe tbody tr th:only-of-type {\n",
       "        vertical-align: middle;\n",
       "    }\n",
       "\n",
       "    .dataframe tbody tr th {\n",
       "        vertical-align: top;\n",
       "    }\n",
       "\n",
       "    .dataframe thead th {\n",
       "        text-align: right;\n",
       "    }\n",
       "</style>\n",
       "<table border=\"1\" class=\"dataframe\">\n",
       "  <thead>\n",
       "    <tr style=\"text-align: right;\">\n",
       "      <th></th>\n",
       "      <th>id</th>\n",
       "      <th>amount_tsh</th>\n",
       "      <th>date_recorded</th>\n",
       "      <th>funder</th>\n",
       "      <th>gps_height</th>\n",
       "      <th>installer</th>\n",
       "      <th>longitude</th>\n",
       "      <th>latitude</th>\n",
       "      <th>wpt_name</th>\n",
       "      <th>num_private</th>\n",
       "      <th>...</th>\n",
       "      <th>payment_type</th>\n",
       "      <th>water_quality</th>\n",
       "      <th>quality_group</th>\n",
       "      <th>quantity</th>\n",
       "      <th>quantity_group</th>\n",
       "      <th>source</th>\n",
       "      <th>source_type</th>\n",
       "      <th>source_class</th>\n",
       "      <th>waterpoint_type</th>\n",
       "      <th>waterpoint_type_group</th>\n",
       "    </tr>\n",
       "  </thead>\n",
       "  <tbody>\n",
       "    <tr>\n",
       "      <th>0</th>\n",
       "      <td>50785</td>\n",
       "      <td>0.0</td>\n",
       "      <td>2013-02-04</td>\n",
       "      <td>Dmdd</td>\n",
       "      <td>1996</td>\n",
       "      <td>DMDD</td>\n",
       "      <td>35.290799</td>\n",
       "      <td>-4.059696</td>\n",
       "      <td>Dinamu Secondary School</td>\n",
       "      <td>0</td>\n",
       "      <td>...</td>\n",
       "      <td>never pay</td>\n",
       "      <td>soft</td>\n",
       "      <td>good</td>\n",
       "      <td>seasonal</td>\n",
       "      <td>seasonal</td>\n",
       "      <td>rainwater harvesting</td>\n",
       "      <td>rainwater harvesting</td>\n",
       "      <td>surface</td>\n",
       "      <td>other</td>\n",
       "      <td>other</td>\n",
       "    </tr>\n",
       "    <tr>\n",
       "      <th>1</th>\n",
       "      <td>51630</td>\n",
       "      <td>0.0</td>\n",
       "      <td>2013-02-04</td>\n",
       "      <td>Government Of Tanzania</td>\n",
       "      <td>1569</td>\n",
       "      <td>DWE</td>\n",
       "      <td>36.656709</td>\n",
       "      <td>-3.309214</td>\n",
       "      <td>Kimnyak</td>\n",
       "      <td>0</td>\n",
       "      <td>...</td>\n",
       "      <td>never pay</td>\n",
       "      <td>soft</td>\n",
       "      <td>good</td>\n",
       "      <td>insufficient</td>\n",
       "      <td>insufficient</td>\n",
       "      <td>spring</td>\n",
       "      <td>spring</td>\n",
       "      <td>groundwater</td>\n",
       "      <td>communal standpipe</td>\n",
       "      <td>communal standpipe</td>\n",
       "    </tr>\n",
       "    <tr>\n",
       "      <th>2</th>\n",
       "      <td>17168</td>\n",
       "      <td>0.0</td>\n",
       "      <td>2013-02-01</td>\n",
       "      <td>NaN</td>\n",
       "      <td>1567</td>\n",
       "      <td>NaN</td>\n",
       "      <td>34.767863</td>\n",
       "      <td>-5.004344</td>\n",
       "      <td>Puma Secondary</td>\n",
       "      <td>0</td>\n",
       "      <td>...</td>\n",
       "      <td>never pay</td>\n",
       "      <td>soft</td>\n",
       "      <td>good</td>\n",
       "      <td>insufficient</td>\n",
       "      <td>insufficient</td>\n",
       "      <td>rainwater harvesting</td>\n",
       "      <td>rainwater harvesting</td>\n",
       "      <td>surface</td>\n",
       "      <td>other</td>\n",
       "      <td>other</td>\n",
       "    </tr>\n",
       "    <tr>\n",
       "      <th>3</th>\n",
       "      <td>45559</td>\n",
       "      <td>0.0</td>\n",
       "      <td>2013-01-22</td>\n",
       "      <td>Finn Water</td>\n",
       "      <td>267</td>\n",
       "      <td>FINN WATER</td>\n",
       "      <td>38.058046</td>\n",
       "      <td>-9.418672</td>\n",
       "      <td>Kwa Mzee Pange</td>\n",
       "      <td>0</td>\n",
       "      <td>...</td>\n",
       "      <td>unknown</td>\n",
       "      <td>soft</td>\n",
       "      <td>good</td>\n",
       "      <td>dry</td>\n",
       "      <td>dry</td>\n",
       "      <td>shallow well</td>\n",
       "      <td>shallow well</td>\n",
       "      <td>groundwater</td>\n",
       "      <td>other</td>\n",
       "      <td>other</td>\n",
       "    </tr>\n",
       "    <tr>\n",
       "      <th>4</th>\n",
       "      <td>49871</td>\n",
       "      <td>500.0</td>\n",
       "      <td>2013-03-27</td>\n",
       "      <td>Bruder</td>\n",
       "      <td>1260</td>\n",
       "      <td>BRUDER</td>\n",
       "      <td>35.006123</td>\n",
       "      <td>-10.950412</td>\n",
       "      <td>Kwa Mzee Turuka</td>\n",
       "      <td>0</td>\n",
       "      <td>...</td>\n",
       "      <td>monthly</td>\n",
       "      <td>soft</td>\n",
       "      <td>good</td>\n",
       "      <td>enough</td>\n",
       "      <td>enough</td>\n",
       "      <td>spring</td>\n",
       "      <td>spring</td>\n",
       "      <td>groundwater</td>\n",
       "      <td>communal standpipe</td>\n",
       "      <td>communal standpipe</td>\n",
       "    </tr>\n",
       "  </tbody>\n",
       "</table>\n",
       "<p>5 rows × 40 columns</p>\n",
       "</div>"
      ],
      "text/plain": [
       "      id  amount_tsh date_recorded                  funder  gps_height  \\\n",
       "0  50785         0.0    2013-02-04                    Dmdd        1996   \n",
       "1  51630         0.0    2013-02-04  Government Of Tanzania        1569   \n",
       "2  17168         0.0    2013-02-01                     NaN        1567   \n",
       "3  45559         0.0    2013-01-22              Finn Water         267   \n",
       "4  49871       500.0    2013-03-27                  Bruder        1260   \n",
       "\n",
       "    installer  longitude   latitude                 wpt_name  num_private  \\\n",
       "0        DMDD  35.290799  -4.059696  Dinamu Secondary School            0   \n",
       "1         DWE  36.656709  -3.309214                  Kimnyak            0   \n",
       "2         NaN  34.767863  -5.004344           Puma Secondary            0   \n",
       "3  FINN WATER  38.058046  -9.418672           Kwa Mzee Pange            0   \n",
       "4      BRUDER  35.006123 -10.950412          Kwa Mzee Turuka            0   \n",
       "\n",
       "   ... payment_type water_quality quality_group      quantity  quantity_group  \\\n",
       "0  ...    never pay          soft          good      seasonal        seasonal   \n",
       "1  ...    never pay          soft          good  insufficient    insufficient   \n",
       "2  ...    never pay          soft          good  insufficient    insufficient   \n",
       "3  ...      unknown          soft          good           dry             dry   \n",
       "4  ...      monthly          soft          good        enough          enough   \n",
       "\n",
       "                 source           source_type  source_class  \\\n",
       "0  rainwater harvesting  rainwater harvesting       surface   \n",
       "1                spring                spring   groundwater   \n",
       "2  rainwater harvesting  rainwater harvesting       surface   \n",
       "3          shallow well          shallow well   groundwater   \n",
       "4                spring                spring   groundwater   \n",
       "\n",
       "      waterpoint_type waterpoint_type_group  \n",
       "0               other                 other  \n",
       "1  communal standpipe    communal standpipe  \n",
       "2               other                 other  \n",
       "3               other                 other  \n",
       "4  communal standpipe    communal standpipe  \n",
       "\n",
       "[5 rows x 40 columns]"
      ]
     },
     "execution_count": 690,
     "metadata": {},
     "output_type": "execute_result"
    }
   ],
   "source": [
    "test_values_df.head()"
   ]
  },
  {
   "cell_type": "code",
   "execution_count": 691,
   "metadata": {
    "code_folding": []
   },
   "outputs": [
    {
     "name": "stdout",
     "output_type": "stream",
     "text": [
      "Observation:\n",
      "The training set values has 59400 records and 39 features\n",
      "The training set values has 59400 records and 1 features\n",
      "The training set values has 14850 records and 40 features\n"
     ]
    }
   ],
   "source": [
    "# printing the shapes all together \n",
    "print(\"Observation:\")\n",
    "print(f\"The training set values has {trainig_values_df.shape[0]} records and {trainig_values_df.shape[1]} features\")\n",
    "print(f\"The training set values has {training_labels_df.shape[0]} records and {training_labels_df.shape[1]} features\")\n",
    "print(f\"The training set values has {test_values_df.shape[0]} records and {test_values_df.shape[1]} features\")\n"
   ]
  },
  {
   "cell_type": "code",
   "execution_count": 692,
   "metadata": {},
   "outputs": [],
   "source": [
    "# joining training labels and training values df\n",
    "train_df= pd.concat([trainig_values_df, training_labels_df], axis= 1)"
   ]
  },
  {
   "cell_type": "code",
   "execution_count": 693,
   "metadata": {},
   "outputs": [
    {
     "data": {
      "text/plain": [
       "(59400, 40)"
      ]
     },
     "execution_count": 693,
     "metadata": {},
     "output_type": "execute_result"
    }
   ],
   "source": [
    "# checking the shape of the joined data\n",
    "train_df.shape"
   ]
  },
  {
   "cell_type": "code",
   "execution_count": 694,
   "metadata": {},
   "outputs": [
    {
     "data": {
      "text/html": [
       "<div>\n",
       "<style scoped>\n",
       "    .dataframe tbody tr th:only-of-type {\n",
       "        vertical-align: middle;\n",
       "    }\n",
       "\n",
       "    .dataframe tbody tr th {\n",
       "        vertical-align: top;\n",
       "    }\n",
       "\n",
       "    .dataframe thead th {\n",
       "        text-align: right;\n",
       "    }\n",
       "</style>\n",
       "<table border=\"1\" class=\"dataframe\">\n",
       "  <thead>\n",
       "    <tr style=\"text-align: right;\">\n",
       "      <th></th>\n",
       "      <th>amount_tsh</th>\n",
       "      <th>date_recorded</th>\n",
       "      <th>funder</th>\n",
       "      <th>gps_height</th>\n",
       "      <th>installer</th>\n",
       "      <th>longitude</th>\n",
       "      <th>latitude</th>\n",
       "      <th>wpt_name</th>\n",
       "      <th>num_private</th>\n",
       "      <th>basin</th>\n",
       "      <th>...</th>\n",
       "      <th>water_quality</th>\n",
       "      <th>quality_group</th>\n",
       "      <th>quantity</th>\n",
       "      <th>quantity_group</th>\n",
       "      <th>source</th>\n",
       "      <th>source_type</th>\n",
       "      <th>source_class</th>\n",
       "      <th>waterpoint_type</th>\n",
       "      <th>waterpoint_type_group</th>\n",
       "      <th>status_group</th>\n",
       "    </tr>\n",
       "    <tr>\n",
       "      <th>id</th>\n",
       "      <th></th>\n",
       "      <th></th>\n",
       "      <th></th>\n",
       "      <th></th>\n",
       "      <th></th>\n",
       "      <th></th>\n",
       "      <th></th>\n",
       "      <th></th>\n",
       "      <th></th>\n",
       "      <th></th>\n",
       "      <th></th>\n",
       "      <th></th>\n",
       "      <th></th>\n",
       "      <th></th>\n",
       "      <th></th>\n",
       "      <th></th>\n",
       "      <th></th>\n",
       "      <th></th>\n",
       "      <th></th>\n",
       "      <th></th>\n",
       "      <th></th>\n",
       "    </tr>\n",
       "  </thead>\n",
       "  <tbody>\n",
       "    <tr>\n",
       "      <th>69572</th>\n",
       "      <td>6000.0</td>\n",
       "      <td>2011-03-14</td>\n",
       "      <td>Roman</td>\n",
       "      <td>1390</td>\n",
       "      <td>Roman</td>\n",
       "      <td>34.938093</td>\n",
       "      <td>-9.856322</td>\n",
       "      <td>none</td>\n",
       "      <td>0</td>\n",
       "      <td>Lake Nyasa</td>\n",
       "      <td>...</td>\n",
       "      <td>soft</td>\n",
       "      <td>good</td>\n",
       "      <td>enough</td>\n",
       "      <td>enough</td>\n",
       "      <td>spring</td>\n",
       "      <td>spring</td>\n",
       "      <td>groundwater</td>\n",
       "      <td>communal standpipe</td>\n",
       "      <td>communal standpipe</td>\n",
       "      <td>functional</td>\n",
       "    </tr>\n",
       "    <tr>\n",
       "      <th>8776</th>\n",
       "      <td>0.0</td>\n",
       "      <td>2013-03-06</td>\n",
       "      <td>Grumeti</td>\n",
       "      <td>1399</td>\n",
       "      <td>GRUMETI</td>\n",
       "      <td>34.698766</td>\n",
       "      <td>-2.147466</td>\n",
       "      <td>Zahanati</td>\n",
       "      <td>0</td>\n",
       "      <td>Lake Victoria</td>\n",
       "      <td>...</td>\n",
       "      <td>soft</td>\n",
       "      <td>good</td>\n",
       "      <td>insufficient</td>\n",
       "      <td>insufficient</td>\n",
       "      <td>rainwater harvesting</td>\n",
       "      <td>rainwater harvesting</td>\n",
       "      <td>surface</td>\n",
       "      <td>communal standpipe</td>\n",
       "      <td>communal standpipe</td>\n",
       "      <td>functional</td>\n",
       "    </tr>\n",
       "    <tr>\n",
       "      <th>34310</th>\n",
       "      <td>25.0</td>\n",
       "      <td>2013-02-25</td>\n",
       "      <td>Lottery Club</td>\n",
       "      <td>686</td>\n",
       "      <td>World vision</td>\n",
       "      <td>37.460664</td>\n",
       "      <td>-3.821329</td>\n",
       "      <td>Kwa Mahundi</td>\n",
       "      <td>0</td>\n",
       "      <td>Pangani</td>\n",
       "      <td>...</td>\n",
       "      <td>soft</td>\n",
       "      <td>good</td>\n",
       "      <td>enough</td>\n",
       "      <td>enough</td>\n",
       "      <td>dam</td>\n",
       "      <td>dam</td>\n",
       "      <td>surface</td>\n",
       "      <td>communal standpipe multiple</td>\n",
       "      <td>communal standpipe</td>\n",
       "      <td>functional</td>\n",
       "    </tr>\n",
       "    <tr>\n",
       "      <th>67743</th>\n",
       "      <td>0.0</td>\n",
       "      <td>2013-01-28</td>\n",
       "      <td>Unicef</td>\n",
       "      <td>263</td>\n",
       "      <td>UNICEF</td>\n",
       "      <td>38.486161</td>\n",
       "      <td>-11.155298</td>\n",
       "      <td>Zahanati Ya Nanyumbu</td>\n",
       "      <td>0</td>\n",
       "      <td>Ruvuma / Southern Coast</td>\n",
       "      <td>...</td>\n",
       "      <td>soft</td>\n",
       "      <td>good</td>\n",
       "      <td>dry</td>\n",
       "      <td>dry</td>\n",
       "      <td>machine dbh</td>\n",
       "      <td>borehole</td>\n",
       "      <td>groundwater</td>\n",
       "      <td>communal standpipe multiple</td>\n",
       "      <td>communal standpipe</td>\n",
       "      <td>non functional</td>\n",
       "    </tr>\n",
       "    <tr>\n",
       "      <th>19728</th>\n",
       "      <td>0.0</td>\n",
       "      <td>2011-07-13</td>\n",
       "      <td>Action In A</td>\n",
       "      <td>0</td>\n",
       "      <td>Artisan</td>\n",
       "      <td>31.130847</td>\n",
       "      <td>-1.825359</td>\n",
       "      <td>Shuleni</td>\n",
       "      <td>0</td>\n",
       "      <td>Lake Victoria</td>\n",
       "      <td>...</td>\n",
       "      <td>soft</td>\n",
       "      <td>good</td>\n",
       "      <td>seasonal</td>\n",
       "      <td>seasonal</td>\n",
       "      <td>rainwater harvesting</td>\n",
       "      <td>rainwater harvesting</td>\n",
       "      <td>surface</td>\n",
       "      <td>communal standpipe</td>\n",
       "      <td>communal standpipe</td>\n",
       "      <td>functional</td>\n",
       "    </tr>\n",
       "  </tbody>\n",
       "</table>\n",
       "<p>5 rows × 40 columns</p>\n",
       "</div>"
      ],
      "text/plain": [
       "       amount_tsh date_recorded        funder  gps_height     installer  \\\n",
       "id                                                                        \n",
       "69572      6000.0    2011-03-14         Roman        1390         Roman   \n",
       "8776          0.0    2013-03-06       Grumeti        1399       GRUMETI   \n",
       "34310        25.0    2013-02-25  Lottery Club         686  World vision   \n",
       "67743         0.0    2013-01-28        Unicef         263        UNICEF   \n",
       "19728         0.0    2011-07-13   Action In A           0       Artisan   \n",
       "\n",
       "       longitude   latitude              wpt_name  num_private  \\\n",
       "id                                                               \n",
       "69572  34.938093  -9.856322                  none            0   \n",
       "8776   34.698766  -2.147466              Zahanati            0   \n",
       "34310  37.460664  -3.821329           Kwa Mahundi            0   \n",
       "67743  38.486161 -11.155298  Zahanati Ya Nanyumbu            0   \n",
       "19728  31.130847  -1.825359               Shuleni            0   \n",
       "\n",
       "                         basin  ... water_quality quality_group      quantity  \\\n",
       "id                              ...                                             \n",
       "69572               Lake Nyasa  ...          soft          good        enough   \n",
       "8776             Lake Victoria  ...          soft          good  insufficient   \n",
       "34310                  Pangani  ...          soft          good        enough   \n",
       "67743  Ruvuma / Southern Coast  ...          soft          good           dry   \n",
       "19728            Lake Victoria  ...          soft          good      seasonal   \n",
       "\n",
       "       quantity_group                source           source_type  \\\n",
       "id                                                                  \n",
       "69572          enough                spring                spring   \n",
       "8776     insufficient  rainwater harvesting  rainwater harvesting   \n",
       "34310          enough                   dam                   dam   \n",
       "67743             dry           machine dbh              borehole   \n",
       "19728        seasonal  rainwater harvesting  rainwater harvesting   \n",
       "\n",
       "       source_class              waterpoint_type waterpoint_type_group  \\\n",
       "id                                                                       \n",
       "69572   groundwater           communal standpipe    communal standpipe   \n",
       "8776        surface           communal standpipe    communal standpipe   \n",
       "34310       surface  communal standpipe multiple    communal standpipe   \n",
       "67743   groundwater  communal standpipe multiple    communal standpipe   \n",
       "19728       surface           communal standpipe    communal standpipe   \n",
       "\n",
       "         status_group  \n",
       "id                     \n",
       "69572      functional  \n",
       "8776       functional  \n",
       "34310      functional  \n",
       "67743  non functional  \n",
       "19728      functional  \n",
       "\n",
       "[5 rows x 40 columns]"
      ]
     },
     "execution_count": 694,
     "metadata": {},
     "output_type": "execute_result"
    }
   ],
   "source": [
    "# checking the df\n",
    "train_df.head()"
   ]
  },
  {
   "cell_type": "markdown",
   "metadata": {},
   "source": [
    "### Cleaning columns with null values"
   ]
  },
  {
   "cell_type": "code",
   "execution_count": 695,
   "metadata": {
    "scrolled": false
   },
   "outputs": [
    {
     "name": "stdout",
     "output_type": "stream",
     "text": [
      "<class 'pandas.core.frame.DataFrame'>\n",
      "Int64Index: 59400 entries, 69572 to 26348\n",
      "Data columns (total 40 columns):\n",
      " #   Column                 Non-Null Count  Dtype  \n",
      "---  ------                 --------------  -----  \n",
      " 0   amount_tsh             59400 non-null  float64\n",
      " 1   date_recorded          59400 non-null  object \n",
      " 2   funder                 55765 non-null  object \n",
      " 3   gps_height             59400 non-null  int64  \n",
      " 4   installer              55745 non-null  object \n",
      " 5   longitude              59400 non-null  float64\n",
      " 6   latitude               59400 non-null  float64\n",
      " 7   wpt_name               59400 non-null  object \n",
      " 8   num_private            59400 non-null  int64  \n",
      " 9   basin                  59400 non-null  object \n",
      " 10  subvillage             59029 non-null  object \n",
      " 11  region                 59400 non-null  object \n",
      " 12  region_code            59400 non-null  int64  \n",
      " 13  district_code          59400 non-null  int64  \n",
      " 14  lga                    59400 non-null  object \n",
      " 15  ward                   59400 non-null  object \n",
      " 16  population             59400 non-null  int64  \n",
      " 17  public_meeting         56066 non-null  object \n",
      " 18  recorded_by            59400 non-null  object \n",
      " 19  scheme_management      55523 non-null  object \n",
      " 20  scheme_name            31234 non-null  object \n",
      " 21  permit                 56344 non-null  object \n",
      " 22  construction_year      59400 non-null  int64  \n",
      " 23  extraction_type        59400 non-null  object \n",
      " 24  extraction_type_group  59400 non-null  object \n",
      " 25  extraction_type_class  59400 non-null  object \n",
      " 26  management             59400 non-null  object \n",
      " 27  management_group       59400 non-null  object \n",
      " 28  payment                59400 non-null  object \n",
      " 29  payment_type           59400 non-null  object \n",
      " 30  water_quality          59400 non-null  object \n",
      " 31  quality_group          59400 non-null  object \n",
      " 32  quantity               59400 non-null  object \n",
      " 33  quantity_group         59400 non-null  object \n",
      " 34  source                 59400 non-null  object \n",
      " 35  source_type            59400 non-null  object \n",
      " 36  source_class           59400 non-null  object \n",
      " 37  waterpoint_type        59400 non-null  object \n",
      " 38  waterpoint_type_group  59400 non-null  object \n",
      " 39  status_group           59400 non-null  object \n",
      "dtypes: float64(3), int64(6), object(31)\n",
      "memory usage: 18.6+ MB\n"
     ]
    }
   ],
   "source": [
    "# checking datatypes\n",
    "train_df.info()"
   ]
  },
  {
   "cell_type": "markdown",
   "metadata": {},
   "source": [
    "Observation: \n",
    "    \n",
    "There are a total of 9 numerical columns and 31 columns with categorical values"
   ]
  },
  {
   "cell_type": "code",
   "execution_count": 696,
   "metadata": {},
   "outputs": [
    {
     "data": {
      "text/plain": [
       "scheme_name              28166\n",
       "scheme_management         3877\n",
       "installer                 3655\n",
       "funder                    3635\n",
       "public_meeting            3334\n",
       "permit                    3056\n",
       "subvillage                 371\n",
       "gps_height                   0\n",
       "longitude                    0\n",
       "latitude                     0\n",
       "wpt_name                     0\n",
       "num_private                  0\n",
       "recorded_by                  0\n",
       "region                       0\n",
       "region_code                  0\n",
       "district_code                0\n",
       "lga                          0\n",
       "ward                         0\n",
       "population                   0\n",
       "date_recorded                0\n",
       "basin                        0\n",
       "status_group                 0\n",
       "waterpoint_type_group        0\n",
       "construction_year            0\n",
       "waterpoint_type              0\n",
       "source_class                 0\n",
       "source_type                  0\n",
       "source                       0\n",
       "quantity_group               0\n",
       "quantity                     0\n",
       "quality_group                0\n",
       "water_quality                0\n",
       "payment_type                 0\n",
       "payment                      0\n",
       "management_group             0\n",
       "management                   0\n",
       "extraction_type_class        0\n",
       "extraction_type_group        0\n",
       "extraction_type              0\n",
       "amount_tsh                   0\n",
       "dtype: int64"
      ]
     },
     "execution_count": 696,
     "metadata": {},
     "output_type": "execute_result"
    }
   ],
   "source": [
    "# checking for missing values in training set values df\n",
    "missing_values= train_df.isna().sum()\n",
    "\n",
    "missing_counts= missing_values.sort_values(ascending= False)\n",
    "missing_counts"
   ]
  },
  {
   "cell_type": "code",
   "execution_count": 697,
   "metadata": {},
   "outputs": [
    {
     "name": "stdout",
     "output_type": "stream",
     "text": [
      "Columns with missing values: ['funder', 'installer', 'subvillage', 'public_meeting', 'scheme_management', 'scheme_name', 'permit']\n"
     ]
    }
   ],
   "source": [
    "# checking columns with the missing values\n",
    "missing_cols = train_df.columns[train_df.isnull().any()].tolist()\n",
    "\n",
    "print(f\"Columns with missing values: {missing_cols}\")"
   ]
  },
  {
   "cell_type": "markdown",
   "metadata": {},
   "source": [
    "Observation:\n",
    "    \n",
    "The train_df dataset has less columns with missing values, just a few columns like scheme name, scheme management, installer, funder, public meeting, permit and subvillage with some missing values which can be handled. "
   ]
  },
  {
   "cell_type": "code",
   "execution_count": 698,
   "metadata": {
    "scrolled": false
   },
   "outputs": [
    {
     "name": "stdout",
     "output_type": "stream",
     "text": [
      "\n",
      "Column: funder\n",
      "Government Of Tanzania    9084\n",
      "NaN                       3635\n",
      "Danida                    3114\n",
      "Hesawa                    2202\n",
      "Rwssp                     1374\n",
      "                          ... \n",
      "Mbeje                        1\n",
      "Tadeo                        1\n",
      "Seram                        1\n",
      "Kanisani                     1\n",
      "Huches                       1\n",
      "Name: funder, Length: 1898, dtype: int64\n",
      "\n",
      "Column: installer\n",
      "DWE                         17402\n",
      "NaN                          3655\n",
      "Government                   1825\n",
      "RWE                          1206\n",
      "Commu                        1060\n",
      "                            ...  \n",
      "Huches                          1\n",
      "VILLAGE                         1\n",
      "Shule ya sekondari Ipuli        1\n",
      "TANZANIAN GOVERNMENT            1\n",
      "local technitian                1\n",
      "Name: installer, Length: 2146, dtype: int64\n",
      "\n",
      "Column: subvillage\n",
      "Madukani      508\n",
      "Shuleni       506\n",
      "Majengo       502\n",
      "Kati          373\n",
      "NaN           371\n",
      "             ... \n",
      "Unyambaa        1\n",
      "Lunyami         1\n",
      "Kankundane      1\n",
      "Mubule          1\n",
      "Mikinga         1\n",
      "Name: subvillage, Length: 19288, dtype: int64\n",
      "\n",
      "Column: public_meeting\n",
      "True     51011\n",
      "False     5055\n",
      "NaN       3334\n",
      "Name: public_meeting, dtype: int64\n",
      "\n",
      "Column: scheme_management\n",
      "VWC                 36793\n",
      "WUG                  5206\n",
      "NaN                  3877\n",
      "Water authority      3153\n",
      "WUA                  2883\n",
      "Water Board          2748\n",
      "Parastatal           1680\n",
      "Private operator     1063\n",
      "Company              1061\n",
      "Other                 766\n",
      "SWC                    97\n",
      "Trust                  72\n",
      "None                    1\n",
      "Name: scheme_management, dtype: int64\n",
      "\n",
      "Column: scheme_name\n",
      "NaN                          28166\n",
      "K                              682\n",
      "None                           644\n",
      "Borehole                       546\n",
      "Chalinze wate                  405\n",
      "                             ...  \n",
      "Mtema/MWS                        1\n",
      "Mradi wa maji wa matalawe        1\n",
      "Nyachenda water scheme           1\n",
      "TM sanya Juu                     1\n",
      "Serian maji salama               1\n",
      "Name: scheme_name, Length: 2697, dtype: int64\n",
      "\n",
      "Column: permit\n",
      "True     38852\n",
      "False    17492\n",
      "NaN       3056\n",
      "Name: permit, dtype: int64\n"
     ]
    }
   ],
   "source": [
    "# checking for value counts in columns with missing values\n",
    "for col in missing_cols:\n",
    "    print(f\"\\nColumn: {col}\")\n",
    "    print(train_df[col].value_counts(dropna=False))"
   ]
  },
  {
   "cell_type": "markdown",
   "metadata": {},
   "source": [
    "#### Cleaning installer column"
   ]
  },
  {
   "cell_type": "code",
   "execution_count": 699,
   "metadata": {
    "scrolled": false
   },
   "outputs": [
    {
     "data": {
      "text/plain": [
       "dwe                   17405\n",
       "government             1891\n",
       "hesawa                 1395\n",
       "rwe                    1206\n",
       "commu                  1065\n",
       "danida                 1050\n",
       "district council        961\n",
       "kkkt                    910\n",
       "0                       777\n",
       "central government      763\n",
       "tcrs                    707\n",
       "world vision            699\n",
       "danid                   624\n",
       "ces                     610\n",
       "community               555\n",
       "gover                   511\n",
       "amref                   443\n",
       "lga                     413\n",
       "tasaf                   411\n",
       "wedeco                  398\n",
       "Name: installer, dtype: int64"
      ]
     },
     "execution_count": 699,
     "metadata": {},
     "output_type": "execute_result"
    }
   ],
   "source": [
    "# filling in missing values in installer column\n",
    "train_df['installer'] = train_df['installer'].str.lower().str.strip() # normalizing text\n",
    "train_df[\"installer\"].value_counts()[:20]"
   ]
  },
  {
   "cell_type": "code",
   "execution_count": 700,
   "metadata": {},
   "outputs": [],
   "source": [
    "# mapping to unify common mispellings\n",
    "mapping = {\n",
    "'world vission': 'world vision',\n",
    " 'world division': 'world vision',\n",
    " 'would bank': 'world bank',\n",
    " 'word bank': 'world bank',\n",
    " 'world banks': 'world bank',\n",
    " 'word divisio': 'world division',\n",
    " 'danid': 'danida',\n",
    " 'governm': 'government',\n",
    " 'cental government': 'central government',\n",
    " 'central govt': 'central government',\n",
    " 'govern': 'government',\n",
    " 'serikali': 'government',\n",
    " 'oxfarm': 'oxfam',\n",
    " 'unisef': 'unicef',\n",
    " 'commu': 'community',\n",
    " 'gove': 'government',\n",
    " 'finw': 'fini water',\n",
    " 'fw': 'fini water',\n",
    " 'finwater': 'fini water',\n",
    " 'finn water': 'fini water',\n",
    " 'fin water': 'fini water',\n",
    " 'gover': 'government',\n",
    " '0': 'unknown',\n",
    " '-': 'unknown',\n",
    " 'acra': 'accra',\n",
    " 'centr': 'central government',\n",
    " 'communit': 'community',\n",
    " 'comunity': 'community',\n",
    " 'cartas': 'caritas',\n",
    " 'conce': 'concern',\n",
    " 'not known': 'unknown'}"
   ]
  },
  {
   "cell_type": "code",
   "execution_count": 701,
   "metadata": {},
   "outputs": [],
   "source": [
    "# replacing in the mapped values\n",
    "train_df[\"installer\"] = train_df[\"installer\"].replace(mapping)\n",
    "# test_values_df[\"installer\"] = test_values_df[\"installer\"].replace(mapping)"
   ]
  },
  {
   "cell_type": "code",
   "execution_count": 702,
   "metadata": {},
   "outputs": [],
   "source": [
    "train_df['installer'].fillna(\"other\", inplace= True)"
   ]
  },
  {
   "cell_type": "code",
   "execution_count": 703,
   "metadata": {
    "code_folding": [],
    "scrolled": false
   },
   "outputs": [
    {
     "data": {
      "text/plain": [
       "['other',\n",
       " 'world vision',\n",
       " 'dwe',\n",
       " 'danida',\n",
       " 'wedeco',\n",
       " 'district council',\n",
       " 'unknown',\n",
       " 'central government',\n",
       " 'community',\n",
       " 'lga',\n",
       " 'government',\n",
       " 'kkkt',\n",
       " 'rwe',\n",
       " 'hesawa',\n",
       " 'ces',\n",
       " 'tasaf',\n",
       " 'fini water',\n",
       " 'amref',\n",
       " 'dmdd',\n",
       " 'tcrs']"
      ]
     },
     "execution_count": 703,
     "metadata": {},
     "output_type": "execute_result"
    }
   ],
   "source": [
    "# Keep top 20 installers and group the rest into \"other\".\n",
    "top_installers = train_df[\"installer\"].value_counts().nlargest(20).index\n",
    "train_df[\"installer\"] = train_df[\"installer\"].apply(lambda x: x if x in top_installers else \"other\")\n",
    "train_df[\"installer\"].unique().tolist()"
   ]
  },
  {
   "cell_type": "markdown",
   "metadata": {},
   "source": [
    "### cleaning funder column\n"
   ]
  },
  {
   "cell_type": "code",
   "execution_count": 704,
   "metadata": {},
   "outputs": [
    {
     "data": {
      "text/plain": [
       "Government Of Tanzania    9084\n",
       "Danida                    3114\n",
       "Hesawa                    2202\n",
       "Rwssp                     1374\n",
       "World Bank                1349\n",
       "Kkkt                      1287\n",
       "World Vision              1246\n",
       "Unicef                    1057\n",
       "Tasaf                      877\n",
       "District Council           843\n",
       "Dhv                        829\n",
       "Private Individual         826\n",
       "Dwsp                       811\n",
       "0                          777\n",
       "Norad                      765\n",
       "Germany Republi            610\n",
       "Tcrs                       602\n",
       "Ministry Of Water          590\n",
       "Water                      583\n",
       "Dwe                        484\n",
       "Name: funder, dtype: int64"
      ]
     },
     "execution_count": 704,
     "metadata": {},
     "output_type": "execute_result"
    }
   ],
   "source": [
    "# checking value counts of the top 20\n",
    "train_df[\"funder\"].value_counts()[:20]"
   ]
  },
  {
   "cell_type": "code",
   "execution_count": 705,
   "metadata": {},
   "outputs": [],
   "source": [
    "# normalizing values in funder column for both training\n",
    "\n",
    "train_df['funder'] = train_df['funder'].str.lower().str.strip() # normalizing text\n",
    "# test_values_df['funder'] = test_values_df['funder'].str.lower().str.strip()"
   ]
  },
  {
   "cell_type": "code",
   "execution_count": 706,
   "metadata": {
    "scrolled": true
   },
   "outputs": [
    {
     "data": {
      "text/plain": [
       "['roman',\n",
       " 'grumeti',\n",
       " 'lottery club',\n",
       " 'unicef',\n",
       " 'action in a',\n",
       " 'mkinga distric coun',\n",
       " 'dwsp',\n",
       " 'rwssp',\n",
       " 'wateraid',\n",
       " 'isingiro ho',\n",
       " 'private',\n",
       " 'danida',\n",
       " 'world vision',\n",
       " 'lawatefuka water supply',\n",
       " 'biore',\n",
       " 'rudep',\n",
       " 'hesawa',\n",
       " 'twe',\n",
       " 'isf',\n",
       " 'african development bank',\n",
       " 'government of tanzania',\n",
       " 'sobodo',\n",
       " 'water',\n",
       " 'private individual',\n",
       " 'undp',\n",
       " nan,\n",
       " 'not known',\n",
       " 'kirde',\n",
       " 'cefa',\n",
       " 'ces(gmbh)',\n",
       " 'european union',\n",
       " 'lga',\n",
       " 'district council',\n",
       " 'muwsa',\n",
       " 'dwe/norad',\n",
       " 'kkkt_makwale',\n",
       " 'sawaka',\n",
       " 'ces (gmbh)',\n",
       " 'olgilai village community',\n",
       " 'kkkt',\n",
       " 'roman catholic',\n",
       " 'norad',\n",
       " 'adra',\n",
       " 'sema',\n",
       " 'piusi',\n",
       " 'dwe',\n",
       " 'rc church',\n",
       " 'swisland/ mount meru flowers',\n",
       " 'ifad',\n",
       " 'swedish',\n",
       " 'idc',\n",
       " 'he',\n",
       " 'isf/tacare',\n",
       " 'jica',\n",
       " 'mzee sh',\n",
       " 'aict',\n",
       " 'tcrs',\n",
       " 'kiuma',\n",
       " 'germany republi',\n",
       " 'netherlands',\n",
       " 'ruthe',\n",
       " 'tulawaka gold mine',\n",
       " 'nethalan',\n",
       " 'tasaf',\n",
       " 'concern world wide',\n",
       " 'wfp',\n",
       " 'lips',\n",
       " 'sida',\n",
       " 'world bank',\n",
       " 'tanza',\n",
       " '0',\n",
       " 'sw',\n",
       " 'shipo',\n",
       " 'fini water',\n",
       " 'kanisa',\n",
       " 'oxfarm',\n",
       " 'village council',\n",
       " 'hesawz',\n",
       " 'shanta',\n",
       " 'fpct',\n",
       " 'wvt',\n",
       " 'dhv',\n",
       " 'ir',\n",
       " 'oikos e.afrika',\n",
       " 'anglican church',\n",
       " 'peters',\n",
       " 'donor',\n",
       " 'secondary schoo',\n",
       " 'amref',\n",
       " 'ministry of water',\n",
       " 'adb',\n",
       " 'jbg',\n",
       " 'dadis',\n",
       " 'international aid services',\n",
       " 'germany',\n",
       " 'kibaha town council',\n",
       " 'dsdp',\n",
       " 'dfid',\n",
       " 'rural water supply and sanitat',\n",
       " 'af',\n",
       " 'wananchi',\n",
       " 'fw',\n",
       " 'no',\n",
       " 'dct',\n",
       " 'africare',\n",
       " 'norad /government',\n",
       " 'british colonial government',\n",
       " 'co',\n",
       " 'ridep',\n",
       " 'tassaf',\n",
       " 'hans',\n",
       " 'socie',\n",
       " 'finw',\n",
       " 'fin water',\n",
       " 'oxfam',\n",
       " 'plan international',\n",
       " 'african muslim agency',\n",
       " 'go',\n",
       " 'cdtf',\n",
       " 'shawasa',\n",
       " 'un',\n",
       " 'awf',\n",
       " 'commu',\n",
       " 'community',\n",
       " 'save the rain usa',\n",
       " 'kibara foundation',\n",
       " 'tlc',\n",
       " 'rc churc',\n",
       " 'plan int',\n",
       " 'w.b',\n",
       " 'lvia',\n",
       " 'songea district council',\n",
       " 'hifab',\n",
       " 'rc ch',\n",
       " 'makonde water population',\n",
       " 'snv',\n",
       " 'government/ community',\n",
       " 'national rural',\n",
       " 'is',\n",
       " 'giz',\n",
       " 'cspd',\n",
       " 'medicine',\n",
       " 'wsdp',\n",
       " 'unice/ cspd',\n",
       " 'finn water',\n",
       " 'kamama',\n",
       " 'villagers',\n",
       " 'ereto',\n",
       " 'abasia',\n",
       " 'unhcr',\n",
       " 'ebaha',\n",
       " 'kuwait',\n",
       " 'magadini-makiwaru water',\n",
       " 'mh an',\n",
       " 'kaemp',\n",
       " 'african relie',\n",
       " 'rcchurch/cefa',\n",
       " 'norad/ kidep',\n",
       " 'private owned',\n",
       " 'tardo',\n",
       " 'insututional',\n",
       " 'sabemo',\n",
       " 'missi',\n",
       " 'dmdd',\n",
       " 'dhv\\\\norp',\n",
       " 'mission',\n",
       " 'ru',\n",
       " 'halmashauri ya wilaya sikonge',\n",
       " 'japan',\n",
       " 'simone',\n",
       " 'ki',\n",
       " 'peace cope',\n",
       " 'finland',\n",
       " 'marafip',\n",
       " 'ta',\n",
       " 'su-ki jang',\n",
       " 'tado',\n",
       " 'tanzania',\n",
       " 'il',\n",
       " 'bank',\n",
       " 'ded',\n",
       " 'irc',\n",
       " 'sabodo',\n",
       " 'soda',\n",
       " 'i.e.c',\n",
       " 'drdp ngo',\n",
       " 'lwi',\n",
       " 'maxavella',\n",
       " 'ics',\n",
       " 'african',\n",
       " 'bilila',\n",
       " 'tpp',\n",
       " 'cipro/government',\n",
       " 'tabora municipal council',\n",
       " 'salim ahmed salim',\n",
       " 'eu/acra',\n",
       " 'kadres ngo',\n",
       " 'regional water engineer arusha',\n",
       " 'quickwi',\n",
       " 'dhv moro',\n",
       " 'hewasa',\n",
       " 'tasaf and lga',\n",
       " 'jaica',\n",
       " 'village res',\n",
       " 'kkkt-dioces ya pare',\n",
       " 'aic',\n",
       " 'solidarm',\n",
       " 'christan outrich',\n",
       " 'kanisa la menonite',\n",
       " 'islamic',\n",
       " 'rc',\n",
       " 'killflora',\n",
       " 'bread for the wor',\n",
       " 'wua',\n",
       " 'mac',\n",
       " 'caltaz kahama',\n",
       " 'mianz',\n",
       " 'dw',\n",
       " 'makapuchini',\n",
       " 'tasaf ii',\n",
       " 'omar ally',\n",
       " 'md',\n",
       " 'mitema',\n",
       " 'ham',\n",
       " 'quwkwin',\n",
       " 'do',\n",
       " 'dh',\n",
       " 'bokera w',\n",
       " 'bulyahunlu gold mine',\n",
       " 'mbiuwasa',\n",
       " 'the isla',\n",
       " 'rotary club',\n",
       " 'muslims',\n",
       " 'care international',\n",
       " 'kimkuma',\n",
       " 'tanesco',\n",
       " 'mbozi district council',\n",
       " 'dasip',\n",
       " 'tltc',\n",
       " 'sdg',\n",
       " 'hsw',\n",
       " 'mwaya mn',\n",
       " 'resolute mining',\n",
       " 'tz japan',\n",
       " 'roman cathoric same',\n",
       " 'concern',\n",
       " 'caritas',\n",
       " 'conce',\n",
       " 'huches',\n",
       " 'wamarekani',\n",
       " 'devon aid korogwe',\n",
       " 'kiliwater',\n",
       " 'lamp',\n",
       " 'bsf',\n",
       " 'mem',\n",
       " 'jeica',\n",
       " 'father bonifasi',\n",
       " 'bgm',\n",
       " 'lcgd',\n",
       " 'karadea ngo',\n",
       " 'msf/tacare',\n",
       " 'fathe',\n",
       " 'unice',\n",
       " 'mdc',\n",
       " 'dasp',\n",
       " 'songea municipal counci',\n",
       " 'tasae',\n",
       " 'water user as',\n",
       " 'msikiti',\n",
       " 'cct',\n",
       " 'islamic found',\n",
       " 'tgrs',\n",
       " 'unicef/ csp',\n",
       " 'jimbo fund',\n",
       " 'tlc/john majala',\n",
       " 'magoma adp',\n",
       " 'vwc',\n",
       " 'pidp',\n",
       " 'japan government',\n",
       " 'kata',\n",
       " 'de',\n",
       " 'acra',\n",
       " 'gtz',\n",
       " 'isf/government',\n",
       " 'kuwasa',\n",
       " 'china government',\n",
       " 'taboma',\n",
       " 'p',\n",
       " 'kingupira s',\n",
       " 'churc',\n",
       " 'walokole',\n",
       " 'mkinga  distric cou',\n",
       " 'cafod',\n",
       " 'hw/rc',\n",
       " 'sumbawanga munici',\n",
       " 'tacare',\n",
       " 'urt',\n",
       " 'camavita',\n",
       " 'member of parliament',\n",
       " 'dmmd',\n",
       " 'aqua blues angels',\n",
       " 'water aid /sema',\n",
       " 'kirdep',\n",
       " 'cc motor day 2010',\n",
       " 'kilwater',\n",
       " 'ndrdp',\n",
       " 'hez',\n",
       " 'nethe',\n",
       " 'denat',\n",
       " 'kibo brewaries',\n",
       " 'arab community',\n",
       " 'elct',\n",
       " 'adp',\n",
       " 'priva',\n",
       " 'holland',\n",
       " 'rc church/centr',\n",
       " 'cocen',\n",
       " 'wfp/tnt',\n",
       " 'lench taramai',\n",
       " 'ncaa',\n",
       " 'mzee don',\n",
       " 'world vision/ kkkt',\n",
       " 'finwater',\n",
       " 'kuamu',\n",
       " 'dwssp',\n",
       " 'musilim agency',\n",
       " 'ukiligu',\n",
       " 'wamakapuchini',\n",
       " 'mbunge',\n",
       " 'the desk and chair foundat',\n",
       " 'duwas',\n",
       " 'diwani',\n",
       " 'kkkt church',\n",
       " 'ea',\n",
       " 'halmashauri ya manispa tabora',\n",
       " 'finidagermantanzania govt',\n",
       " 'bahewasa',\n",
       " 'jika',\n",
       " 'asb',\n",
       " 'qwiqwi',\n",
       " 'pmo',\n",
       " 'tuwasa',\n",
       " 'irish ai',\n",
       " 'mdrdp',\n",
       " 'jeshi la wokovu',\n",
       " 'government /tassaf',\n",
       " 'mboma',\n",
       " 'people from japan',\n",
       " 'kilindi district co',\n",
       " 'shamte said',\n",
       " 'auwasa',\n",
       " 'kidp',\n",
       " 'tridep',\n",
       " 'st',\n",
       " 'wd and id',\n",
       " 'serikali',\n",
       " 'kanisa katoliki',\n",
       " 'po',\n",
       " 'ga',\n",
       " 'cocern',\n",
       " 'finida german tanzania govt',\n",
       " 'national rural and hfa',\n",
       " 'k',\n",
       " 'idara ya maji',\n",
       " 'moslem foundation',\n",
       " 'swiss if',\n",
       " 'miziriol',\n",
       " 'yasini selemani',\n",
       " 'dbspe',\n",
       " 'h',\n",
       " 'a/co germany',\n",
       " 'oikos e.africa/european union',\n",
       " 'hydom luthelani',\n",
       " 'ilct',\n",
       " 'peter tesha',\n",
       " 'ms',\n",
       " 'mzungu paul',\n",
       " 'caltas',\n",
       " 'red cross',\n",
       " 'losaa-kia water supply',\n",
       " 'tassaf i',\n",
       " 'kanisa katoliki lolovoni',\n",
       " 'finland government',\n",
       " 'gaica',\n",
       " 'institution',\n",
       " 'tcrs.tlc',\n",
       " 'magereza',\n",
       " 'loliondo parish',\n",
       " 'diocese of geita',\n",
       " 'total landcare',\n",
       " 'u.s.a',\n",
       " 'tdft',\n",
       " 'parastatal',\n",
       " 'rished',\n",
       " 'dwt',\n",
       " 'the people of japan',\n",
       " 'kcu',\n",
       " 'abd',\n",
       " 'village government',\n",
       " 'msabi',\n",
       " 'vc',\n",
       " 'cmsr',\n",
       " 'konoike',\n",
       " 'roman catholic rulenge diocese',\n",
       " 'bened',\n",
       " 'shule',\n",
       " 'w',\n",
       " 'partage',\n",
       " 'inkinda',\n",
       " 'robert loyal',\n",
       " 'africa amini alama',\n",
       " 'imf',\n",
       " 'l',\n",
       " 'moroil',\n",
       " 'sekei village community',\n",
       " 'us embassy',\n",
       " 'missionaries',\n",
       " 'tcrs /government',\n",
       " 'desk and chair foundation',\n",
       " 'ms-danish',\n",
       " 'wsdp & sdg',\n",
       " 'roman cathoric-same',\n",
       " 'cefa-njombe',\n",
       " 'aar',\n",
       " 'village govt',\n",
       " 'farm africa',\n",
       " 'mheza distric counc',\n",
       " 'chamavita',\n",
       " 'mileniam project',\n",
       " 'undp/ilo',\n",
       " 'dads',\n",
       " 'institutional',\n",
       " 'sowasa',\n",
       " 'ccpk',\n",
       " 'tasafu',\n",
       " 'government/ world bank',\n",
       " 'luthe',\n",
       " 'wirara ya maji',\n",
       " 'mzee mkungata',\n",
       " 'rada',\n",
       " 'twesa',\n",
       " 'plan internatio',\n",
       " 'solidame',\n",
       " 'rwsso',\n",
       " 'williamson diamond ltd',\n",
       " 'tag',\n",
       " 'dar al ber',\n",
       " 'watu wa ujerumani',\n",
       " 'dwe/bamboo projec',\n",
       " 'danida /government',\n",
       " 'semaki k',\n",
       " 'arabs community',\n",
       " 'water aid/sema',\n",
       " 'district rural project',\n",
       " 'gen',\n",
       " 'redep',\n",
       " 'kiwanda cha samaki',\n",
       " 'singida yetu',\n",
       " 'rwsp',\n",
       " 'moravian',\n",
       " 'sema s',\n",
       " 'cbhi',\n",
       " 'tcrs /care',\n",
       " 'makonde',\n",
       " 'millenium',\n",
       " 'swisland/mount meru flowers',\n",
       " 'kigoma municipal',\n",
       " 'kinapa',\n",
       " 'people of japan',\n",
       " 'kijij',\n",
       " 'wfp/tnt/usaid',\n",
       " 'tanapa',\n",
       " 'efg',\n",
       " 'local',\n",
       " 'kyariga',\n",
       " 'tanzakesho',\n",
       " 'roman cathoric -kilomeni',\n",
       " 'world vision/adra',\n",
       " 'mbozi secondary school',\n",
       " 'tasaf/dmdd',\n",
       " 'mws',\n",
       " 'shekhe',\n",
       " 'pataji',\n",
       " 'tahea',\n",
       " 'kalta',\n",
       " 'pentecosta church',\n",
       " 'sekondari',\n",
       " 'kyela council',\n",
       " 'kalitasi',\n",
       " 'quick wins',\n",
       " 'lowasa',\n",
       " 'hotels and loggs tz ltd',\n",
       " 'cobashec',\n",
       " 'orphanage',\n",
       " 'adf',\n",
       " 'wwf',\n",
       " 'idydc',\n",
       " 'cper',\n",
       " 'school',\n",
       " 'ilo',\n",
       " 'olumuro',\n",
       " 'villaers',\n",
       " 'tlc/thimotheo masunga',\n",
       " 'dak',\n",
       " 'kidep',\n",
       " 'ubalozi wa marekani',\n",
       " 'dmk anglican',\n",
       " 'franc',\n",
       " 'ka',\n",
       " 'mgm',\n",
       " 'aimgold',\n",
       " 'mzee omari',\n",
       " 'petro patrice',\n",
       " 'camartec',\n",
       " 'loliondo secondary',\n",
       " 'islamic agency tanzania',\n",
       " 'tanz egypt technical cooper',\n",
       " 'safari roya',\n",
       " 'koica',\n",
       " 'rdc',\n",
       " 'total land care',\n",
       " 'pad',\n",
       " 'msf',\n",
       " 'mamad',\n",
       " 'padep',\n",
       " 'one un',\n",
       " 'fabia',\n",
       " 'lake tanganyika',\n",
       " 'italy',\n",
       " 'solar villa',\n",
       " 'roman church',\n",
       " 'singasinga',\n",
       " 'rc/mission',\n",
       " 'in',\n",
       " 'adp mombo',\n",
       " 'pci',\n",
       " 'norad/ tassaf ii',\n",
       " 'i wash',\n",
       " 'bs',\n",
       " 'kambi migoko',\n",
       " 'ai',\n",
       " 'sauwasa',\n",
       " 'icdp',\n",
       " 'rotte',\n",
       " 'dhv/gove',\n",
       " 'kmcl',\n",
       " 'ccps',\n",
       " 'si',\n",
       " 'rundu man',\n",
       " 'serikari',\n",
       " 'undp/aict',\n",
       " 'hdv',\n",
       " 'halmashauri',\n",
       " 'concern /govern',\n",
       " 'quick win project /council',\n",
       " 'mh kapuya',\n",
       " 'halmashauri ya wilaya',\n",
       " 'baric',\n",
       " 'cpro',\n",
       " 'getekwe',\n",
       " 'gain',\n",
       " 'wahidi',\n",
       " 'asdp',\n",
       " 'kadp',\n",
       " 'aco/germany',\n",
       " 'majengo prima',\n",
       " 'hortanzia',\n",
       " 'quick',\n",
       " 'hasnan murig (mbunge)',\n",
       " 'ikeuchi towels japan',\n",
       " 'halmashauli',\n",
       " 'acord',\n",
       " 'menon',\n",
       " 'wate aid/sema',\n",
       " 'dwe/ubalozi wa marekani',\n",
       " 'vifafi',\n",
       " 'cdg',\n",
       " 'kwasenenge group',\n",
       " 'ded/rwssp',\n",
       " 'oldonyolengai',\n",
       " 'none',\n",
       " 'village community',\n",
       " 'minjingu',\n",
       " 'el',\n",
       " 'd',\n",
       " 'songas',\n",
       " 'mi',\n",
       " 'action aid',\n",
       " 'tanroad',\n",
       " 'lake tanganyika basin',\n",
       " 'pwc',\n",
       " 'teonas wambura',\n",
       " 'mgaya masese',\n",
       " 'stantons',\n",
       " 'sao h',\n",
       " 'ukida',\n",
       " 'taasaf',\n",
       " 'mwita kichere',\n",
       " 'lwf',\n",
       " 'mosque',\n",
       " 'peter ngereka',\n",
       " 'svn',\n",
       " 'investor',\n",
       " \"ju-sarang church' and bugango\",\n",
       " 'lgcdg',\n",
       " 'action contre la faim',\n",
       " 'kwamdulu estate',\n",
       " 'quick wins scheme',\n",
       " 'cpps',\n",
       " 'belgian government',\n",
       " 'cmcr',\n",
       " 'care int',\n",
       " 'mavuno ngo',\n",
       " 'niger',\n",
       " 'mwanza',\n",
       " 'zaburi and neig',\n",
       " 'women for partnership',\n",
       " 'artisan',\n",
       " 'sisa',\n",
       " 'cdcg',\n",
       " 'ndm',\n",
       " 'secondary',\n",
       " 'da unoperaio siciliano',\n",
       " 'town council',\n",
       " 'lions club',\n",
       " 'lutheran church',\n",
       " 'shirika la kinamama na watot',\n",
       " 'pangadeco',\n",
       " 'uyoge',\n",
       " 'canada',\n",
       " 'frankfurt',\n",
       " 'redet',\n",
       " 'rural water department',\n",
       " 'buptist',\n",
       " 'unp/aict',\n",
       " 'timothy shindika',\n",
       " 'village office',\n",
       " 'lotary club',\n",
       " 'hesaw',\n",
       " 'malec',\n",
       " 'kuji foundation',\n",
       " 'mamvua kakungu',\n",
       " 'rusumo game reserve',\n",
       " 'mtuwasa and community',\n",
       " 'w.d.&.i.',\n",
       " 'act mara',\n",
       " 'sda',\n",
       " 'mzinga a',\n",
       " 'vgovernment',\n",
       " 're',\n",
       " 'loocip',\n",
       " 'sua',\n",
       " 'brdp',\n",
       " 'hamref',\n",
       " 'happy watoto foundation',\n",
       " 'gdp',\n",
       " 'lgdcg',\n",
       " 'jgb',\n",
       " 'mfuko wa jimbo',\n",
       " 'doddea',\n",
       " 'maliasili',\n",
       " 'roman ca',\n",
       " 'tcrst',\n",
       " 'holla',\n",
       " 'african development foundation',\n",
       " 'fptc - pent',\n",
       " 'makona',\n",
       " 'oxfam gb',\n",
       " 'african 2000 network',\n",
       " 'netherland',\n",
       " 'tabraki',\n",
       " 'balo',\n",
       " 'dadp',\n",
       " 'ikela wa',\n",
       " 'rotary i',\n",
       " 'rwssp/wsdp',\n",
       " 'christian outrich',\n",
       " 'cipro/care/tcrs',\n",
       " 'italian',\n",
       " 'kome parish',\n",
       " 'mwanga town water authority',\n",
       " 'jumanne siabo',\n",
       " 'hindu',\n",
       " 'rural',\n",
       " 'h/w',\n",
       " 'tanap',\n",
       " 'roman cathoric church',\n",
       " 'rombo dalta',\n",
       " 'ilwilo community',\n",
       " 'un/wfp',\n",
       " 'st ph',\n",
       " 'lwiji italy',\n",
       " 'livin',\n",
       " 'cg',\n",
       " 'hhesawa',\n",
       " 'lwi & central government',\n",
       " 'lc',\n",
       " 'kkkt leguruki',\n",
       " 'tanzania compasion',\n",
       " 'louise elucas sala',\n",
       " 'hiap',\n",
       " 'cpps mission',\n",
       " 'matyenye',\n",
       " 'dimon',\n",
       " 'italy government',\n",
       " 'tag church ub',\n",
       " 'aic church',\n",
       " 'wvc',\n",
       " 'lgcbg',\n",
       " 'tacri',\n",
       " 'chai wazir',\n",
       " 'hasnein murij',\n",
       " 'rural water supply and sanita',\n",
       " 'simba lodge',\n",
       " 'free pentecoste church of tanz',\n",
       " 'summit for water',\n",
       " 'sanje wa',\n",
       " 'makundya',\n",
       " 'uhai wa mama na mtoto',\n",
       " 'ola',\n",
       " 'ba as',\n",
       " 'tredep',\n",
       " 'nyanza road',\n",
       " 'cgc',\n",
       " 'swidish',\n",
       " 'kizenga',\n",
       " 'hapa',\n",
       " 'ramadhani nyambizi',\n",
       " 'denish',\n",
       " 'mkuyu',\n",
       " 'ras',\n",
       " 'mwinjuma mzee',\n",
       " 'gachuma ginery',\n",
       " 'resolute',\n",
       " 'morovian',\n",
       " 'water board',\n",
       " 'kigoma municipal council',\n",
       " 'mafwimbo',\n",
       " 'pentecostal',\n",
       " 'rocci ross',\n",
       " 'igolola community',\n",
       " 'pancrasi',\n",
       " 's',\n",
       " 'rdws',\n",
       " 'said omari',\n",
       " 'ngiresi village community',\n",
       " 'kilomber',\n",
       " 'sharifa athuman',\n",
       " 'qwickwin',\n",
       " 'mwita muremi',\n",
       " 'mbwana omari',\n",
       " 'tlc/samora',\n",
       " 'mmem',\n",
       " 'haydom lutheran hospital',\n",
       " 'vicfish ltd',\n",
       " 'afroz ismail',\n",
       " 'sisal estste hale',\n",
       " 'eu',\n",
       " 'korea',\n",
       " 'cvs miss',\n",
       " 'moradi',\n",
       " 'living water international',\n",
       " 'kajima',\n",
       " 'uaacc',\n",
       " 'germany misionary',\n",
       " 'rips',\n",
       " 'france',\n",
       " 'bukumbi',\n",
       " 'rhobi',\n",
       " 'kiwanda cha tangawizi',\n",
       " 'ten degree hotel',\n",
       " 'wssp',\n",
       " 'meru concrete',\n",
       " 'gg',\n",
       " 'wizara',\n",
       " 'segera estate',\n",
       " 'hospital',\n",
       " 'dmk',\n",
       " 'siza mayengo',\n",
       " 'greec',\n",
       " 'makli',\n",
       " 'mp',\n",
       " 'islam',\n",
       " 'dassip',\n",
       " 'rvemp',\n",
       " 'adp bungu',\n",
       " 'thomasi busigaye',\n",
       " 'sijm',\n",
       " 'w.d & i.',\n",
       " 'british tanza',\n",
       " 'kkkt ndrumangeni',\n",
       " 'tag church',\n",
       " 'council',\n",
       " 'usambala sister',\n",
       " 'hearts helping hands.inc.',\n",
       " 'idea',\n",
       " 'filo',\n",
       " 'qwekwin',\n",
       " 'selous g',\n",
       " 'pentecostal hagana sweeden',\n",
       " 'ester ndege',\n",
       " 'oikos e .africa/european union',\n",
       " 'nyabarongo kegoro',\n",
       " 'quik',\n",
       " 'ringo',\n",
       " 'kanisani',\n",
       " 'wfp/usaid/tnt',\n",
       " 'village council/ haydom luther',\n",
       " 'fpct church',\n",
       " 'mzung',\n",
       " 'kwikwiz',\n",
       " 'kanisa la mitume',\n",
       " 'iom',\n",
       " 'oda',\n",
       " 'caltus',\n",
       " 'gt',\n",
       " 'malola',\n",
       " 'water project mbawala chini',\n",
       " 'totoland care',\n",
       " 'nddp',\n",
       " 'kmt',\n",
       " 'anjuman e seifee',\n",
       " 'nginila',\n",
       " 'usa embassy',\n",
       " 'village',\n",
       " 'pdi',\n",
       " 't',\n",
       " 'hery',\n",
       " 'obc',\n",
       " 'nyamongo gold mining',\n",
       " 'women fo partnership',\n",
       " 'sister francis',\n",
       " 'norani',\n",
       " 'mahita',\n",
       " 'kalebejo parish',\n",
       " 'aixos',\n",
       " 'government',\n",
       " 'wrssp',\n",
       " 'ddp',\n",
       " 'game division',\n",
       " 'rudep /dwe',\n",
       " 'kashwas',\n",
       " 'twende pamoja',\n",
       " 'gwitembe',\n",
       " 'makori',\n",
       " 'sangea district council',\n",
       " 'unicef/central',\n",
       " 'africa 2000 network/undp',\n",
       " 'mmanya abdallah',\n",
       " 'snv ltd',\n",
       " 'taes',\n",
       " 'canada aid',\n",
       " 'senapa',\n",
       " 'regwa company of egypt',\n",
       " 'water se',\n",
       " 'mamlaka ya maji ngara',\n",
       " 'wama',\n",
       " 'prf',\n",
       " 'church',\n",
       " 'magadini makiwaru water',\n",
       " 'kayempu ltd',\n",
       " 'trachoma',\n",
       " 'seleman rashid',\n",
       " 'afriican reli',\n",
       " 'tassaf ii',\n",
       " 'samsoni',\n",
       " 'quick wings',\n",
       " 'ngos',\n",
       " 'kurrp ki',\n",
       " 'cast',\n",
       " 'rudep/norad',\n",
       " 'kwa mzee waziri',\n",
       " 'panone',\n",
       " 'lawate fuka water suppl',\n",
       " 'st gasper',\n",
       " 'wug and ded',\n",
       " 'pr',\n",
       " 'mmg gold mine',\n",
       " 'nordic',\n",
       " 'mchukwi hos',\n",
       " 'dwst',\n",
       " 'serikaru',\n",
       " 'african realief committe of ku',\n",
       " 'fao',\n",
       " 'scott',\n",
       " 'mzungu',\n",
       " 'vttp',\n",
       " 'vi',\n",
       " 'irish government',\n",
       " 'namungo miners',\n",
       " 'nassor fehed',\n",
       " 'dbfpe',\n",
       " 'clause',\n",
       " 'busoga trust',\n",
       " 'mzee mabena',\n",
       " 'br',\n",
       " 'brad',\n",
       " 'koico',\n",
       " 'healt',\n",
       " 'ro',\n",
       " 'jeshi lawokovu',\n",
       " 'paffect mwanaindi',\n",
       " 'tansi',\n",
       " 'craelius',\n",
       " 'apm[africa precious metals lt',\n",
       " 'zao water spring x',\n",
       " 'shinyanga shallow wells',\n",
       " 'cipro/care',\n",
       " 'vifaf',\n",
       " 'mtc',\n",
       " 'lungwe',\n",
       " 'dhinu',\n",
       " 'aic kij',\n",
       " 'mataro',\n",
       " 'dagida',\n",
       " 'redap',\n",
       " 'nwssp',\n",
       " 'lench',\n",
       " 'wanakijiji',\n",
       " 'nk',\n",
       " 'nimrodi mkono[mb]',\n",
       " 'maro',\n",
       " 'professor ben ohio university',\n",
       " 'rafael michael',\n",
       " 'tdrs',\n",
       " 'bra',\n",
       " 'suwasa',\n",
       " 'twig',\n",
       " 'tanzania egypt technical co op',\n",
       " 'lifetime',\n",
       " 'comunedi roma',\n",
       " 'unhcr/danida',\n",
       " 'bread of the worl',\n",
       " 'lutheran',\n",
       " 'tasf',\n",
       " 'rc cathoric',\n",
       " 'halmashauri wil',\n",
       " 'mgaya',\n",
       " 'grail mission kiseki bar',\n",
       " 'answeer muslim grou',\n",
       " 'john gileth',\n",
       " 'care/dwe',\n",
       " 'liuwassa',\n",
       " 'ustawi',\n",
       " 'nssf',\n",
       " 'kilol',\n",
       " 'nado',\n",
       " 'judge mchome',\n",
       " 'minis',\n",
       " 'milenia',\n",
       " 'water user group',\n",
       " 'opec',\n",
       " 'government /sda',\n",
       " 'farm-africa',\n",
       " 'bffs',\n",
       " 'kyela-morogoro',\n",
       " 'ggm',\n",
       " 'msikitini',\n",
       " 'kwik',\n",
       " 'shelisheli commission',\n",
       " 'mungaya',\n",
       " 'baptist church',\n",
       " 'tgts',\n",
       " 'unknown',\n",
       " 'ndorobo tours',\n",
       " 'zaben',\n",
       " 'serikali ya kijiji',\n",
       " 'enyueti',\n",
       " 'watu wa marekani',\n",
       " 'regina group',\n",
       " 'snv-swash',\n",
       " 'seram',\n",
       " 'lcdg',\n",
       " 'adap',\n",
       " 'laizer',\n",
       " 'african barrick gold',\n",
       " 'salehe',\n",
       " 'jumanne',\n",
       " 'masai land',\n",
       " 'jipa',\n",
       " 's. kumar',\n",
       " 'hpa',\n",
       " 'mp mzeru',\n",
       " 'w.d &',\n",
       " 'wafidhi wa ziwa t',\n",
       " 'matimbwa sec',\n",
       " \"lee kang pyung's family\",\n",
       " 'rwsssp',\n",
       " 'rural drinking water supply',\n",
       " 'mhoranzi',\n",
       " 'woyege',\n",
       " 'quick win project',\n",
       " 'muslimu society(shia)',\n",
       " 'morovian church',\n",
       " 'grazie franco lucchini',\n",
       " 'pankrasi',\n",
       " 'irevea sister water',\n",
       " 'unesco',\n",
       " 'iucn',\n",
       " 'kdc',\n",
       " ...]"
      ]
     },
     "execution_count": 706,
     "metadata": {},
     "output_type": "execute_result"
    }
   ],
   "source": [
    "# listing the unique value to identify mispelled mistakes\n",
    "train_df[\"funder\"].unique().tolist()"
   ]
  },
  {
   "cell_type": "code",
   "execution_count": null,
   "metadata": {},
   "outputs": [],
   "source": []
  },
  {
   "cell_type": "code",
   "execution_count": 707,
   "metadata": {},
   "outputs": [],
   "source": [
    "# mapping to unify common mispellings\n",
    "mapping = {\n",
    "    \"oxfarm\": \"oxfam\",\n",
    "    \"oxfam gb\": \"oxfam\",\n",
    "    \"govt of tanzania\": \"government of tanzania\",\n",
    "    \"tanzania government\": \"government of tanzania\",\n",
    "    \"germany republi\": \"german republic\",\n",
    "    \"gvt\": \"government of tanzania\",\n",
    "    \"serikaru\": \"government of tanzania\",\n",
    "    \"serikali\": \"government of tanzania\",\n",
    "    \"serikari\": \"government of tanzania\",\n",
    "    \"usa embassy\": \"us embassy\",\n",
    "    \"ubalozi wa marekani\": \"us embassy\",\n",
    "    \"u.s.a\": \"usa\",\n",
    "    \"world vision\": \"world vision\",\n",
    "    \"vision world\": \"world vision\",\n",
    "    \"roman\": \"roman catholic\",\n",
    "    \"rc church\": \"roman catholic\",\n",
    "    \"catholic church\": \"roman church\",\n",
    "    \"rc ch\": \"roman catholic\",\n",
    "    \"roman cathoric same\": \"roman catholic\",\n",
    "    \"roman church\": \"roman catholic\",\n",
    "    \"roman cathoric\": \"roman catholic\",\n",
    "    \"kanisa katoliki\": \"roman catholic\",\n",
    "    \"roman cathoric church\": \"roman catholic\",\n",
    "    \"roman ca\": \"roman catholic\",\n",
    "    \"nethe\": \"netherlands\",\n",
    "    \"nethalan\": \"netherlands\",\n",
    "    \"finw\": \"fini water\",\n",
    "    \"finn water\": \"fini water\",\n",
    "    \"finwater\": \"fini water\",\n",
    "    \"fin water\": \"fini water\",\n",
    "    \"commu\": \"community\",\n",
    "    \"unicef\": \"unicef\",\n",
    "    \"hamref\": \"amref\",\n",
    "    \"village govt\": \"village government\",\n",
    "    \"serkali ya kijiji\": \"village government\",\n",
    "    \"priva\": \"private individual\",\n",
    "    \"private\": \"private individual\",\n",
    "    \"0\": \"unknown\",\n",
    "    \"not known\": \"unknown\"}"
   ]
  },
  {
   "cell_type": "code",
   "execution_count": 708,
   "metadata": {},
   "outputs": [],
   "source": [
    "train_df[\"funder\"] = train_df[\"funder\"].replace(mapping)\n",
    "# test_values_df['funder'] = test_values_df[\"funder\"].replace(mapping)"
   ]
  },
  {
   "cell_type": "code",
   "execution_count": 709,
   "metadata": {},
   "outputs": [],
   "source": [
    "# filling null values unknown\n",
    "train_df[\"funder\"].fillna(\"other\", inplace= True)"
   ]
  },
  {
   "cell_type": "code",
   "execution_count": 710,
   "metadata": {},
   "outputs": [
    {
     "data": {
      "text/plain": [
       "['roman catholic',\n",
       " 'other',\n",
       " 'unicef',\n",
       " 'dwsp',\n",
       " 'rwssp',\n",
       " 'private individual',\n",
       " 'danida',\n",
       " 'world vision',\n",
       " 'hesawa',\n",
       " 'government of tanzania',\n",
       " 'unknown',\n",
       " 'district council',\n",
       " 'kkkt',\n",
       " 'norad',\n",
       " 'german republic',\n",
       " 'netherlands',\n",
       " 'tasaf',\n",
       " 'world bank',\n",
       " 'fini water',\n",
       " 'dhv']"
      ]
     },
     "execution_count": 710,
     "metadata": {},
     "output_type": "execute_result"
    }
   ],
   "source": [
    "# Keep top 20 funders and group the rest into \"other\".\n",
    "top_funders = train_df[\"funder\"].value_counts().nlargest(20).index\n",
    "train_df[\"funder\"] = train_df[\"funder\"].apply(lambda x: x if x in top_funders else \"other\")\n",
    "\n",
    "train_df[\"funder\"].unique().tolist()"
   ]
  },
  {
   "cell_type": "code",
   "execution_count": 711,
   "metadata": {},
   "outputs": [],
   "source": [
    "# top_funders = test_values_df[\"funder\"].value_counts().nlargest(20).index\n",
    "# test_values_df['funder'] = test_values_df['funder'].apply(lambda x: x if x in top_funders else 'other')\n",
    "# test_values_df[\"funder\"].unique().tolist()"
   ]
  },
  {
   "cell_type": "code",
   "execution_count": 712,
   "metadata": {},
   "outputs": [
    {
     "data": {
      "text/plain": [
       "amount_tsh                   0\n",
       "date_recorded                0\n",
       "funder                       0\n",
       "gps_height                   0\n",
       "installer                    0\n",
       "longitude                    0\n",
       "latitude                     0\n",
       "wpt_name                     0\n",
       "num_private                  0\n",
       "basin                        0\n",
       "subvillage                 371\n",
       "region                       0\n",
       "region_code                  0\n",
       "district_code                0\n",
       "lga                          0\n",
       "ward                         0\n",
       "population                   0\n",
       "public_meeting            3334\n",
       "recorded_by                  0\n",
       "scheme_management         3877\n",
       "scheme_name              28166\n",
       "permit                    3056\n",
       "construction_year            0\n",
       "extraction_type              0\n",
       "extraction_type_group        0\n",
       "extraction_type_class        0\n",
       "management                   0\n",
       "management_group             0\n",
       "payment                      0\n",
       "payment_type                 0\n",
       "water_quality                0\n",
       "quality_group                0\n",
       "quantity                     0\n",
       "quantity_group               0\n",
       "source                       0\n",
       "source_type                  0\n",
       "source_class                 0\n",
       "waterpoint_type              0\n",
       "waterpoint_type_group        0\n",
       "status_group                 0\n",
       "dtype: int64"
      ]
     },
     "execution_count": 712,
     "metadata": {},
     "output_type": "execute_result"
    }
   ],
   "source": [
    "# checking null values in installer column\n",
    "train_df.isna().sum()"
   ]
  },
  {
   "cell_type": "markdown",
   "metadata": {},
   "source": [
    "#### Cleaning public meeting column\n"
   ]
  },
  {
   "cell_type": "code",
   "execution_count": 713,
   "metadata": {},
   "outputs": [
    {
     "data": {
      "text/plain": [
       "True     51011\n",
       "False     5055\n",
       "NaN       3334\n",
       "Name: public_meeting, dtype: int64"
      ]
     },
     "execution_count": 713,
     "metadata": {},
     "output_type": "execute_result"
    }
   ],
   "source": [
    "# checking column values\n",
    "train_df.public_meeting.value_counts(dropna= False)"
   ]
  },
  {
   "cell_type": "code",
   "execution_count": 714,
   "metadata": {},
   "outputs": [],
   "source": [
    "# filling NaN with unknown\n",
    "train_df.public_meeting.fillna('unknown', inplace=True)"
   ]
  },
  {
   "cell_type": "code",
   "execution_count": 715,
   "metadata": {},
   "outputs": [],
   "source": [
    "# Changing all the values to be strings instead of boolen\n",
    "train_df.public_meeting = train_df.public_meeting.astype('str')"
   ]
  },
  {
   "cell_type": "markdown",
   "metadata": {},
   "source": [
    "#### Cleaning permit column\n"
   ]
  },
  {
   "cell_type": "code",
   "execution_count": 716,
   "metadata": {},
   "outputs": [
    {
     "data": {
      "text/plain": [
       "True     38852\n",
       "False    17492\n",
       "NaN       3056\n",
       "Name: permit, dtype: int64"
      ]
     },
     "execution_count": 716,
     "metadata": {},
     "output_type": "execute_result"
    }
   ],
   "source": [
    "# checking column values\n",
    "train_df.permit.value_counts(dropna= False)"
   ]
  },
  {
   "cell_type": "code",
   "execution_count": 717,
   "metadata": {},
   "outputs": [],
   "source": [
    "# replacing NaN with unknown\n",
    "train_df.permit.fillna('unknown', inplace=True)"
   ]
  },
  {
   "cell_type": "code",
   "execution_count": 718,
   "metadata": {},
   "outputs": [],
   "source": [
    "# Changing all the values to be strings instead of boolen\n",
    "train_df.permit = train_df.permit.astype('str')"
   ]
  },
  {
   "cell_type": "markdown",
   "metadata": {},
   "source": [
    "#### Cleaning scheme name and scheme management columns"
   ]
  },
  {
   "cell_type": "code",
   "execution_count": 719,
   "metadata": {},
   "outputs": [
    {
     "data": {
      "text/plain": [
       "K                                          682\n",
       "None                                       644\n",
       "Borehole                                   546\n",
       "Chalinze wate                              405\n",
       "M                                          400\n",
       "                                          ... \n",
       "Mpin                                         1\n",
       "Shilabela                                    1\n",
       "Rural water supply &sanitation  program      1\n",
       "Sero water scheme                            1\n",
       "Tove-mtwango                                 1\n",
       "Name: scheme_name, Length: 2696, dtype: int64"
      ]
     },
     "execution_count": 719,
     "metadata": {},
     "output_type": "execute_result"
    }
   ],
   "source": [
    "train_df.scheme_name.value_counts()"
   ]
  },
  {
   "cell_type": "code",
   "execution_count": 720,
   "metadata": {},
   "outputs": [],
   "source": [
    "# dropping scheme name column because the information is not valuable and also it has alot of missing values\n",
    "train_df.drop('scheme_name', axis=1, inplace=True)"
   ]
  },
  {
   "cell_type": "code",
   "execution_count": 721,
   "metadata": {},
   "outputs": [
    {
     "data": {
      "text/plain": [
       "VWC                 36793\n",
       "WUG                  5206\n",
       "NaN                  3877\n",
       "Water authority      3153\n",
       "WUA                  2883\n",
       "Water Board          2748\n",
       "Parastatal           1680\n",
       "Private operator     1063\n",
       "Company              1061\n",
       "Other                 766\n",
       "SWC                    97\n",
       "Trust                  72\n",
       "None                    1\n",
       "Name: scheme_management, dtype: int64"
      ]
     },
     "execution_count": 721,
     "metadata": {},
     "output_type": "execute_result"
    }
   ],
   "source": [
    "# checking scheme management counts\n",
    "train_df.scheme_management.value_counts(dropna= False)"
   ]
  },
  {
   "cell_type": "code",
   "execution_count": 722,
   "metadata": {},
   "outputs": [],
   "source": [
    "# filling in missing values with other\n",
    "train_df.scheme_management.fillna('None', inplace=True)"
   ]
  },
  {
   "cell_type": "code",
   "execution_count": 723,
   "metadata": {},
   "outputs": [
    {
     "data": {
      "text/plain": [
       "VWC                 36793\n",
       "WUG                  5206\n",
       "None                 3878\n",
       "Water authority      3153\n",
       "WUA                  2883\n",
       "Water Board          2748\n",
       "Parastatal           1680\n",
       "Private operator     1063\n",
       "Company              1061\n",
       "Other                 766\n",
       "SWC                    97\n",
       "Trust                  72\n",
       "Name: scheme_management, dtype: int64"
      ]
     },
     "execution_count": 723,
     "metadata": {},
     "output_type": "execute_result"
    }
   ],
   "source": [
    "# checking for effectiveness\n",
    "train_df[\"scheme_management\"].value_counts()"
   ]
  },
  {
   "cell_type": "code",
   "execution_count": 724,
   "metadata": {},
   "outputs": [
    {
     "data": {
      "text/plain": [
       "Madukani        508\n",
       "Shuleni         506\n",
       "Majengo         502\n",
       "Kati            373\n",
       "Mtakuja         262\n",
       "               ... \n",
       "Lunyami           1\n",
       "Mubule            1\n",
       "Kankundane        1\n",
       "Maghaghie         1\n",
       "Kibonwangoma      1\n",
       "Name: subvillage, Length: 19287, dtype: int64"
      ]
     },
     "execution_count": 724,
     "metadata": {},
     "output_type": "execute_result"
    }
   ],
   "source": [
    "# checking subvillage column\n",
    "train_df[\"subvillage\"].value_counts()"
   ]
  },
  {
   "cell_type": "code",
   "execution_count": 725,
   "metadata": {},
   "outputs": [],
   "source": [
    "# dropping the column because it has missing values and also wont be neccesary in the modeling\n",
    "train_df.drop(\"subvillage\", axis= 1, inplace= True)"
   ]
  },
  {
   "cell_type": "markdown",
   "metadata": {},
   "source": [
    "#### Counterchecking columns without null values"
   ]
  },
  {
   "cell_type": "code",
   "execution_count": 726,
   "metadata": {},
   "outputs": [
    {
     "name": "stdout",
     "output_type": "stream",
     "text": [
      "\n",
      "Column: amount_tsh\n",
      "0.0       41639\n",
      "500.0      3102\n",
      "50.0       2472\n",
      "1000.0     1488\n",
      "20.0       1463\n",
      "200.0      1220\n",
      "100.0       816\n",
      "10.0        806\n",
      "30.0        743\n",
      "2000.0      704\n",
      "Name: amount_tsh, dtype: int64\n",
      "\n",
      "Column: date_recorded\n",
      "2011-03-15    572\n",
      "2011-03-17    558\n",
      "2013-02-03    546\n",
      "2011-03-14    520\n",
      "2011-03-16    513\n",
      "2011-03-18    497\n",
      "2011-03-19    466\n",
      "2013-02-04    464\n",
      "2013-01-29    459\n",
      "2011-03-04    458\n",
      "Name: date_recorded, dtype: int64\n",
      "\n",
      "Column: funder\n",
      "other                     29739\n",
      "government of tanzania     9129\n",
      "danida                     3114\n",
      "hesawa                     2202\n",
      "rwssp                      1374\n",
      "world bank                 1349\n",
      "kkkt                       1287\n",
      "world vision               1246\n",
      "private individual         1126\n",
      "unicef                     1057\n",
      "Name: funder, dtype: int64\n",
      "\n",
      "Column: gps_height\n",
      " 0       20438\n",
      "-15         60\n",
      "-16         55\n",
      "-13         55\n",
      "-20         52\n",
      " 1290       52\n",
      "-14         51\n",
      " 303        51\n",
      "-18         49\n",
      "-19         47\n",
      "Name: gps_height, dtype: int64\n",
      "\n",
      "Column: installer\n",
      "other                 24576\n",
      "dwe                   17405\n",
      "government             2676\n",
      "community              1676\n",
      "danida                 1674\n",
      "hesawa                 1395\n",
      "rwe                    1206\n",
      "central government     1069\n",
      "district council        961\n",
      "fini water              956\n",
      "Name: installer, dtype: int64\n",
      "\n",
      "Column: longitude\n",
      "0.000000     1812\n",
      "37.540901       2\n",
      "33.010510       2\n",
      "39.093484       2\n",
      "32.972719       2\n",
      "33.006275       2\n",
      "39.103950       2\n",
      "37.542785       2\n",
      "36.802490       2\n",
      "39.098374       2\n",
      "Name: longitude, dtype: int64\n",
      "\n",
      "Column: latitude\n",
      "-2.000000e-08    1812\n",
      "-6.985842e+00       2\n",
      "-3.797579e+00       2\n",
      "-6.981884e+00       2\n",
      "-7.104625e+00       2\n",
      "-7.056923e+00       2\n",
      "-7.175174e+00       2\n",
      "-6.990731e+00       2\n",
      "-6.978755e+00       2\n",
      "-6.994704e+00       2\n",
      "Name: latitude, dtype: int64\n",
      "\n",
      "Column: wpt_name\n",
      "none               3563\n",
      "Shuleni            1748\n",
      "Zahanati            830\n",
      "Msikitini           535\n",
      "Kanisani            323\n",
      "Bombani             271\n",
      "Sokoni              260\n",
      "Ofisini             254\n",
      "School              208\n",
      "Shule Ya Msingi     199\n",
      "Name: wpt_name, dtype: int64\n",
      "\n",
      "Column: num_private\n",
      "0     58643\n",
      "6        81\n",
      "1        73\n",
      "5        46\n",
      "8        46\n",
      "32       40\n",
      "45       36\n",
      "15       35\n",
      "39       30\n",
      "93       28\n",
      "Name: num_private, dtype: int64\n",
      "\n",
      "Column: basin\n",
      "Lake Victoria              10248\n",
      "Pangani                     8940\n",
      "Rufiji                      7976\n",
      "Internal                    7785\n",
      "Lake Tanganyika             6432\n",
      "Wami / Ruvu                 5987\n",
      "Lake Nyasa                  5085\n",
      "Ruvuma / Southern Coast     4493\n",
      "Lake Rukwa                  2454\n",
      "Name: basin, dtype: int64\n",
      "\n",
      "Column: region\n",
      "Iringa         5294\n",
      "Shinyanga      4982\n",
      "Mbeya          4639\n",
      "Kilimanjaro    4379\n",
      "Morogoro       4006\n",
      "Arusha         3350\n",
      "Kagera         3316\n",
      "Mwanza         3102\n",
      "Kigoma         2816\n",
      "Ruvuma         2640\n",
      "Name: region, dtype: int64\n",
      "\n",
      "Column: region_code\n",
      "11    5300\n",
      "17    5011\n",
      "12    4639\n",
      "3     4379\n",
      "5     4040\n",
      "18    3324\n",
      "19    3047\n",
      "2     3024\n",
      "16    2816\n",
      "10    2640\n",
      "Name: region_code, dtype: int64\n",
      "\n",
      "Column: district_code\n",
      "1     12203\n",
      "2     11173\n",
      "3      9998\n",
      "4      8999\n",
      "5      4356\n",
      "6      4074\n",
      "7      3343\n",
      "8      1043\n",
      "30      995\n",
      "33      874\n",
      "Name: district_code, dtype: int64\n",
      "\n",
      "Column: lga\n",
      "Njombe          2503\n",
      "Arusha Rural    1252\n",
      "Moshi Rural     1251\n",
      "Bariadi         1177\n",
      "Rungwe          1106\n",
      "Kilosa          1094\n",
      "Kasulu          1047\n",
      "Mbozi           1034\n",
      "Meru            1009\n",
      "Bagamoyo         997\n",
      "Name: lga, dtype: int64\n",
      "\n",
      "Column: ward\n",
      "Igosi           307\n",
      "Imalinyi        252\n",
      "Siha Kati       232\n",
      "Mdandu          231\n",
      "Nduruma         217\n",
      "Kitunda         203\n",
      "Mishamo         203\n",
      "Msindo          201\n",
      "Chalinze        196\n",
      "Maji ya Chai    190\n",
      "Name: ward, dtype: int64\n",
      "\n",
      "Column: population\n",
      "0      21381\n",
      "1       7025\n",
      "200     1940\n",
      "150     1892\n",
      "250     1681\n",
      "300     1476\n",
      "100     1146\n",
      "50      1139\n",
      "500     1009\n",
      "350      986\n",
      "Name: population, dtype: int64\n",
      "\n",
      "Column: public_meeting\n",
      "True       51011\n",
      "False       5055\n",
      "unknown     3334\n",
      "Name: public_meeting, dtype: int64\n",
      "\n",
      "Column: recorded_by\n",
      "GeoData Consultants Ltd    59400\n",
      "Name: recorded_by, dtype: int64\n",
      "\n",
      "Column: scheme_management\n",
      "VWC                 36793\n",
      "WUG                  5206\n",
      "None                 3878\n",
      "Water authority      3153\n",
      "WUA                  2883\n",
      "Water Board          2748\n",
      "Parastatal           1680\n",
      "Private operator     1063\n",
      "Company              1061\n",
      "Other                 766\n",
      "Name: scheme_management, dtype: int64\n",
      "\n",
      "Column: permit\n",
      "True       38852\n",
      "False      17492\n",
      "unknown     3056\n",
      "Name: permit, dtype: int64\n",
      "\n",
      "Column: construction_year\n",
      "0       20709\n",
      "2010     2645\n",
      "2008     2613\n",
      "2009     2533\n",
      "2000     2091\n",
      "2007     1587\n",
      "2006     1471\n",
      "2003     1286\n",
      "2011     1256\n",
      "2004     1123\n",
      "Name: construction_year, dtype: int64\n",
      "\n",
      "Column: extraction_type\n",
      "gravity              26780\n",
      "nira/tanira           8154\n",
      "other                 6430\n",
      "submersible           4764\n",
      "swn 80                3670\n",
      "mono                  2865\n",
      "india mark ii         2400\n",
      "afridev               1770\n",
      "ksb                   1415\n",
      "other - rope pump      451\n",
      "Name: extraction_type, dtype: int64\n",
      "\n",
      "Column: extraction_type_group\n",
      "gravity           26780\n",
      "nira/tanira        8154\n",
      "other              6430\n",
      "submersible        6179\n",
      "swn 80             3670\n",
      "mono               2865\n",
      "india mark ii      2400\n",
      "afridev            1770\n",
      "rope pump           451\n",
      "other handpump      364\n",
      "Name: extraction_type_group, dtype: int64\n",
      "\n",
      "Column: extraction_type_class\n",
      "gravity         26780\n",
      "handpump        16456\n",
      "other            6430\n",
      "submersible      6179\n",
      "motorpump        2987\n",
      "rope pump         451\n",
      "wind-powered      117\n",
      "Name: extraction_type_class, dtype: int64\n",
      "\n",
      "Column: management\n",
      "vwc                 40507\n",
      "wug                  6515\n",
      "water board          2933\n",
      "wua                  2535\n",
      "private operator     1971\n",
      "parastatal           1768\n",
      "water authority       904\n",
      "other                 844\n",
      "company               685\n",
      "unknown               561\n",
      "Name: management, dtype: int64\n",
      "\n",
      "Column: management_group\n",
      "user-group    52490\n",
      "commercial     3638\n",
      "parastatal     1768\n",
      "other           943\n",
      "unknown         561\n",
      "Name: management_group, dtype: int64\n",
      "\n",
      "Column: payment\n",
      "never pay                25348\n",
      "pay per bucket            8985\n",
      "pay monthly               8300\n",
      "unknown                   8157\n",
      "pay when scheme fails     3914\n",
      "pay annually              3642\n",
      "other                     1054\n",
      "Name: payment, dtype: int64\n",
      "\n",
      "Column: payment_type\n",
      "never pay     25348\n",
      "per bucket     8985\n",
      "monthly        8300\n",
      "unknown        8157\n",
      "on failure     3914\n",
      "annually       3642\n",
      "other          1054\n",
      "Name: payment_type, dtype: int64\n",
      "\n",
      "Column: water_quality\n",
      "soft                  50818\n",
      "salty                  4856\n",
      "unknown                1876\n",
      "milky                   804\n",
      "coloured                490\n",
      "salty abandoned         339\n",
      "fluoride                200\n",
      "fluoride abandoned       17\n",
      "Name: water_quality, dtype: int64\n",
      "\n",
      "Column: quality_group\n",
      "good        50818\n",
      "salty        5195\n",
      "unknown      1876\n",
      "milky         804\n",
      "colored       490\n",
      "fluoride      217\n",
      "Name: quality_group, dtype: int64\n",
      "\n",
      "Column: quantity\n",
      "enough          33186\n",
      "insufficient    15129\n",
      "dry              6246\n",
      "seasonal         4050\n",
      "unknown           789\n",
      "Name: quantity, dtype: int64\n",
      "\n",
      "Column: quantity_group\n",
      "enough          33186\n",
      "insufficient    15129\n",
      "dry              6246\n",
      "seasonal         4050\n",
      "unknown           789\n",
      "Name: quantity_group, dtype: int64\n",
      "\n",
      "Column: source\n",
      "spring                  17021\n",
      "shallow well            16824\n",
      "machine dbh             11075\n",
      "river                    9612\n",
      "rainwater harvesting     2295\n",
      "hand dtw                  874\n",
      "lake                      765\n",
      "dam                       656\n",
      "other                     212\n",
      "unknown                    66\n",
      "Name: source, dtype: int64\n",
      "\n",
      "Column: source_type\n",
      "spring                  17021\n",
      "shallow well            16824\n",
      "borehole                11949\n",
      "river/lake              10377\n",
      "rainwater harvesting     2295\n",
      "dam                       656\n",
      "other                     278\n",
      "Name: source_type, dtype: int64\n",
      "\n",
      "Column: source_class\n",
      "groundwater    45794\n",
      "surface        13328\n",
      "unknown          278\n",
      "Name: source_class, dtype: int64\n",
      "\n",
      "Column: waterpoint_type\n",
      "communal standpipe             28522\n",
      "hand pump                      17488\n",
      "other                           6380\n",
      "communal standpipe multiple     6103\n",
      "improved spring                  784\n",
      "cattle trough                    116\n",
      "dam                                7\n",
      "Name: waterpoint_type, dtype: int64\n",
      "\n",
      "Column: waterpoint_type_group\n",
      "communal standpipe    34625\n",
      "hand pump             17488\n",
      "other                  6380\n",
      "improved spring         784\n",
      "cattle trough           116\n",
      "dam                       7\n",
      "Name: waterpoint_type_group, dtype: int64\n",
      "\n",
      "Column: status_group\n",
      "functional                 32259\n",
      "non functional             22824\n",
      "functional needs repair     4317\n",
      "Name: status_group, dtype: int64\n"
     ]
    }
   ],
   "source": [
    "# checking all columns value counts\n",
    "\n",
    "for col in train_df.columns:\n",
    "    print(f\"\\nColumn: {col}\")\n",
    "    print(train_df[col].value_counts(dropna=False).head(10))"
   ]
  },
  {
   "cell_type": "markdown",
   "metadata": {},
   "source": [
    "#### amount column"
   ]
  },
  {
   "cell_type": "code",
   "execution_count": 727,
   "metadata": {},
   "outputs": [],
   "source": [
    "# changing amount column to interger\n",
    "train_df.amount_tsh = train_df.amount_tsh.astype('int64')"
   ]
  },
  {
   "cell_type": "markdown",
   "metadata": {},
   "source": [
    "#### date recorded"
   ]
  },
  {
   "cell_type": "code",
   "execution_count": 728,
   "metadata": {},
   "outputs": [
    {
     "data": {
      "text/plain": [
       "2011    28674\n",
       "2013    24271\n",
       "2012     6424\n",
       "2004       30\n",
       "2002        1\n",
       "Name: date_recorded, dtype: int64"
      ]
     },
     "execution_count": 728,
     "metadata": {},
     "output_type": "execute_result"
    }
   ],
   "source": [
    "# converting date_recorded to date time format\n",
    "train_df['date_recorded'] = pd.to_datetime(train_df['date_recorded'])\n",
    "train_df[\"date_recorded\"].dt.year.value_counts(dropna= False)"
   ]
  },
  {
   "cell_type": "markdown",
   "metadata": {},
   "source": [
    "Observation: \n",
    "\n",
    "The above information shows that the number of wells recorded increases over time.\n",
    "with the highest number of wells recorded(about 28674) in 2011 and 2013, while the lowest number was recorded in 2004(30) and 2002(1) \n",
    "which suggests that the well construction efforts begun much later. is could possibly be because of the emergence funding from the NGO"
   ]
  },
  {
   "cell_type": "markdown",
   "metadata": {},
   "source": [
    "#### Gps_height"
   ]
  },
  {
   "cell_type": "code",
   "execution_count": 729,
   "metadata": {},
   "outputs": [
    {
     "data": {
      "text/plain": [
       " 0       20438\n",
       "-15         60\n",
       "-16         55\n",
       "-13         55\n",
       "-20         52\n",
       "         ...  \n",
       " 2285        1\n",
       " 2424        1\n",
       " 2552        1\n",
       " 2413        1\n",
       " 2385        1\n",
       "Name: gps_height, Length: 2428, dtype: int64"
      ]
     },
     "execution_count": 729,
     "metadata": {},
     "output_type": "execute_result"
    }
   ],
   "source": [
    "# rechecking gps_gps_heigh value_counts\n",
    "train_df[\"gps_height\"].value_counts(dropna= False)\n"
   ]
  },
  {
   "cell_type": "markdown",
   "metadata": {},
   "source": [
    "Observation:\n",
    "\n",
    "This values show the range of altitudes where the water points are located from negative to altitude above 2000m\n",
    "Most number of water points are located in the areas of 0 altitude that is near or at the sea level. \n"
   ]
  },
  {
   "cell_type": "code",
   "execution_count": 730,
   "metadata": {},
   "outputs": [
    {
     "data": {
      "text/plain": [
       "0.000000     1812\n",
       "37.540901       2\n",
       "33.010510       2\n",
       "39.093484       2\n",
       "32.972719       2\n",
       "             ... \n",
       "37.579803       1\n",
       "33.196490       1\n",
       "34.017119       1\n",
       "33.788326       1\n",
       "30.163579       1\n",
       "Name: longitude, Length: 57516, dtype: int64"
      ]
     },
     "execution_count": 730,
     "metadata": {},
     "output_type": "execute_result"
    }
   ],
   "source": [
    "# counter checking value counts\n",
    "train_df[\"longitude\"].value_counts(dropna= False)"
   ]
  },
  {
   "cell_type": "markdown",
   "metadata": {},
   "source": [
    "Observation:\n",
    "The longitude of 0 is nearly an impossible longitude in area like tanzania. These 0 values could be the placeholder for missing longitude values \n",
    "we need to find a way of imputing the 0 values. the one option is to replace them with null values and later impute with the median of the region after rgrouping by region"
   ]
  },
  {
   "cell_type": "code",
   "execution_count": 731,
   "metadata": {},
   "outputs": [
    {
     "data": {
      "text/plain": [
       "-2.000000e-08    1812\n",
       "-6.985842e+00       2\n",
       "-3.797579e+00       2\n",
       "-6.981884e+00       2\n",
       "-7.104625e+00       2\n",
       "                 ... \n",
       "-5.726001e+00       1\n",
       "-9.646831e+00       1\n",
       "-8.124530e+00       1\n",
       "-2.535985e+00       1\n",
       "-2.598965e+00       1\n",
       "Name: latitude, Length: 57517, dtype: int64"
      ]
     },
     "execution_count": 731,
     "metadata": {},
     "output_type": "execute_result"
    }
   ],
   "source": [
    "train_df[\"latitude\"].value_counts()"
   ]
  },
  {
   "cell_type": "markdown",
   "metadata": {},
   "source": [
    "Observation:\n",
    "    \n",
    "There are a lot of zero values for latitude and longitude which are not possible for Tanzania's location."
   ]
  },
  {
   "cell_type": "code",
   "execution_count": 732,
   "metadata": {
    "scrolled": true
   },
   "outputs": [
    {
     "data": {
      "text/plain": [
       "0       20709\n",
       "2010     2645\n",
       "2008     2613\n",
       "2009     2533\n",
       "2000     2091\n",
       "2007     1587\n",
       "2006     1471\n",
       "2003     1286\n",
       "2011     1256\n",
       "2004     1123\n",
       "2012     1084\n",
       "2002     1075\n",
       "1978     1037\n",
       "1995     1014\n",
       "2005     1011\n",
       "1999      979\n",
       "1998      966\n",
       "1990      954\n",
       "1985      945\n",
       "1980      811\n",
       "1996      811\n",
       "1984      779\n",
       "1982      744\n",
       "1994      738\n",
       "1972      708\n",
       "1974      676\n",
       "1997      644\n",
       "1992      640\n",
       "1993      608\n",
       "2001      540\n",
       "1988      521\n",
       "1983      488\n",
       "1975      437\n",
       "1986      434\n",
       "1976      414\n",
       "1970      411\n",
       "1991      324\n",
       "1989      316\n",
       "1987      302\n",
       "1981      238\n",
       "1977      202\n",
       "1979      192\n",
       "1973      184\n",
       "2013      176\n",
       "1971      145\n",
       "1960      102\n",
       "1967       88\n",
       "1963       85\n",
       "1968       77\n",
       "1969       59\n",
       "1964       40\n",
       "1962       30\n",
       "1961       21\n",
       "1965       19\n",
       "1966       17\n",
       "Name: construction_year, dtype: int64"
      ]
     },
     "execution_count": 732,
     "metadata": {},
     "output_type": "execute_result"
    }
   ],
   "source": [
    "# number of wells constructed per year\n",
    "train_df[\"construction_year\"].value_counts(dropna= False)"
   ]
  },
  {
   "cell_type": "markdown",
   "metadata": {},
   "source": [
    "Observation:\n",
    "\n",
    "The 0 construction year is an error during data entry and therefore it has the highest values(20709), this because there is no 0 years it should a value greater the zero to indicate the year the well was constructed."
   ]
  },
  {
   "cell_type": "code",
   "execution_count": 733,
   "metadata": {},
   "outputs": [
    {
     "name": "stdout",
     "output_type": "stream",
     "text": [
      "Number of records with construction_year = 0: 20709\n"
     ]
    }
   ],
   "source": [
    "# handling zeros in the construction year column\n",
    "\"\"\" Construction year column has alot of 0 values as years of construction shown in the value_counts above.\"\"\"\n",
    "\n",
    "# finding exact number of zero years\n",
    "zero_years= (train_df[\"construction_year\"]== 0).sum()\n",
    "print(f\"Number of records with construction_year = 0: {zero_years}\")\n"
   ]
  },
  {
   "cell_type": "code",
   "execution_count": 734,
   "metadata": {},
   "outputs": [],
   "source": [
    "# replacing  0 in construction years with null values \n",
    "train_df['construction_year'] = train_df['construction_year'].replace(0, np.nan)\n",
    "\n",
    "# # calculating well age using date_recorded\n",
    "# train_df[\"well_age\"]= train_df['date_recorded'].dt.year - train_df[\"construction_year\"]\n",
    "\n",
    "# train_df['well_age'].value_counts()\n",
    "\n",
    "# calculating the  median of the construction year where years is not zero\n",
    "year_median = int(train_df[train_df['construction_year'] != 0]['construction_year'].median())\n",
    "\n",
    "\n",
    "#  Filling NaN with the median\n",
    "train_df['construction_year'].fillna(year_median, inplace= True)"
   ]
  },
  {
   "cell_type": "code",
   "execution_count": 735,
   "metadata": {},
   "outputs": [
    {
     "data": {
      "text/plain": [
       "2000.0    22800\n",
       "2010.0     2645\n",
       "2008.0     2613\n",
       "2009.0     2533\n",
       "2007.0     1587\n",
       "2006.0     1471\n",
       "2003.0     1286\n",
       "2011.0     1256\n",
       "2004.0     1123\n",
       "2012.0     1084\n",
       "2002.0     1075\n",
       "1978.0     1037\n",
       "1995.0     1014\n",
       "2005.0     1011\n",
       "1999.0      979\n",
       "1998.0      966\n",
       "1990.0      954\n",
       "1985.0      945\n",
       "1996.0      811\n",
       "1980.0      811\n",
       "1984.0      779\n",
       "1982.0      744\n",
       "1994.0      738\n",
       "1972.0      708\n",
       "1974.0      676\n",
       "1997.0      644\n",
       "1992.0      640\n",
       "1993.0      608\n",
       "2001.0      540\n",
       "1988.0      521\n",
       "1983.0      488\n",
       "1975.0      437\n",
       "1986.0      434\n",
       "1976.0      414\n",
       "1970.0      411\n",
       "1991.0      324\n",
       "1989.0      316\n",
       "1987.0      302\n",
       "1981.0      238\n",
       "1977.0      202\n",
       "1979.0      192\n",
       "1973.0      184\n",
       "2013.0      176\n",
       "1971.0      145\n",
       "1960.0      102\n",
       "1967.0       88\n",
       "1963.0       85\n",
       "1968.0       77\n",
       "1969.0       59\n",
       "1964.0       40\n",
       "1962.0       30\n",
       "1961.0       21\n",
       "1965.0       19\n",
       "1966.0       17\n",
       "Name: construction_year, dtype: int64"
      ]
     },
     "execution_count": 735,
     "metadata": {},
     "output_type": "execute_result"
    }
   ],
   "source": [
    "# checking the column\n",
    "train_df[\"construction_year\"].value_counts(dropna= False)"
   ]
  },
  {
   "cell_type": "code",
   "execution_count": 736,
   "metadata": {},
   "outputs": [],
   "source": [
    "# # filling in missing well age values with median\n",
    "# train_df['well_age'] = train_df['well_age'].fillna(train_df['well_age'].median())"
   ]
  },
  {
   "cell_type": "code",
   "execution_count": 737,
   "metadata": {},
   "outputs": [],
   "source": [
    "# # checking missing values in well age column\n",
    "# train_df['well_age'].isna().sum()"
   ]
  },
  {
   "cell_type": "markdown",
   "metadata": {},
   "source": [
    "#### Wpt_name column "
   ]
  },
  {
   "cell_type": "code",
   "execution_count": 738,
   "metadata": {},
   "outputs": [
    {
     "data": {
      "text/plain": [
       "none                  3563\n",
       "Shuleni               1748\n",
       "Zahanati               830\n",
       "Msikitini              535\n",
       "Kanisani               323\n",
       "                      ... \n",
       "Kwa Buswelu Tereza       1\n",
       "Kwa Filemoni             1\n",
       "Njaba                    1\n",
       "Kwa Mkuni                1\n",
       "Kakombe                  1\n",
       "Name: wpt_name, Length: 37400, dtype: int64"
      ]
     },
     "execution_count": 738,
     "metadata": {},
     "output_type": "execute_result"
    }
   ],
   "source": [
    "# checking value_counts\n",
    "train_df[\"wpt_name\"].value_counts(dropna= False)"
   ]
  },
  {
   "cell_type": "code",
   "execution_count": 739,
   "metadata": {},
   "outputs": [],
   "source": [
    "#  dropping this column as it only contains names of the wells which is not neccessary in our analysis\n",
    "train_df.drop('wpt_name', axis=1, inplace=True)"
   ]
  },
  {
   "cell_type": "markdown",
   "metadata": {},
   "source": [
    "#### Num_private column"
   ]
  },
  {
   "cell_type": "code",
   "execution_count": 740,
   "metadata": {},
   "outputs": [
    {
     "data": {
      "text/plain": [
       "0      0.987256\n",
       "6      0.001364\n",
       "1      0.001229\n",
       "5      0.000774\n",
       "8      0.000774\n",
       "         ...   \n",
       "180    0.000017\n",
       "213    0.000017\n",
       "23     0.000017\n",
       "55     0.000017\n",
       "94     0.000017\n",
       "Name: num_private, Length: 65, dtype: float64"
      ]
     },
     "execution_count": 740,
     "metadata": {},
     "output_type": "execute_result"
    }
   ],
   "source": [
    "# crosschecking counts\n",
    "train_df['num_private'].value_counts(normalize= True)"
   ]
  },
  {
   "cell_type": "code",
   "execution_count": 741,
   "metadata": {},
   "outputs": [],
   "source": [
    "# dropping num column since we would not need in our analysis\n",
    "train_df.drop(\"num_private\", axis= 1, inplace= True)"
   ]
  },
  {
   "cell_type": "markdown",
   "metadata": {},
   "source": [
    "#### basin column"
   ]
  },
  {
   "cell_type": "code",
   "execution_count": 742,
   "metadata": {},
   "outputs": [
    {
     "data": {
      "text/plain": [
       "Lake Victoria              10248\n",
       "Pangani                     8940\n",
       "Rufiji                      7976\n",
       "Internal                    7785\n",
       "Lake Tanganyika             6432\n",
       "Wami / Ruvu                 5987\n",
       "Lake Nyasa                  5085\n",
       "Ruvuma / Southern Coast     4493\n",
       "Lake Rukwa                  2454\n",
       "Name: basin, dtype: int64"
      ]
     },
     "execution_count": 742,
     "metadata": {},
     "output_type": "execute_result"
    }
   ],
   "source": [
    "# checking for value_counts\n",
    "train_df[\"basin\"].value_counts(dropna= False)"
   ]
  },
  {
   "cell_type": "markdown",
   "metadata": {},
   "source": [
    "#### Region and region code columns"
   ]
  },
  {
   "cell_type": "code",
   "execution_count": 743,
   "metadata": {},
   "outputs": [
    {
     "data": {
      "text/plain": [
       "region         region_code\n",
       "Iringa         11             5294\n",
       "Shinyanga      17             4956\n",
       "Mbeya          12             4639\n",
       "Kilimanjaro    3              4379\n",
       "Morogoro       5              4006\n",
       "Kagera         18             3316\n",
       "Mwanza         19             3047\n",
       "Arusha         2              3024\n",
       "Kigoma         16             2816\n",
       "Ruvuma         10             2640\n",
       "Tanga          4              2513\n",
       "Dodoma         1              2201\n",
       "Singida        13             2093\n",
       "Mara           20             1969\n",
       "Tabora         14             1959\n",
       "Rukwa          15             1808\n",
       "Pwani          6              1609\n",
       "Manyara        21             1583\n",
       "Lindi          80             1238\n",
       "Pwani          60             1025\n",
       "Mtwara         90              917\n",
       "Dar es Salaam  7               805\n",
       "Mtwara         99              423\n",
       "               9               390\n",
       "Arusha         24              326\n",
       "Lindi          8               300\n",
       "Mwanza         17               55\n",
       "Tanga          5                34\n",
       "Shinyanga      14               20\n",
       "Lindi          18                8\n",
       "Shinyanga      11                6\n",
       "Pwani          40                1\n",
       "dtype: int64"
      ]
     },
     "execution_count": 743,
     "metadata": {},
     "output_type": "execute_result"
    }
   ],
   "source": [
    "# checking values counts\n",
    "train_df[[\"region\", \"region_code\"]].value_counts()"
   ]
  },
  {
   "cell_type": "markdown",
   "metadata": {},
   "source": [
    "Observation:\n",
    "    \n",
    "Since we have a manageable amount of regions, we would have to drop the region code column because we can identify the region by its name"
   ]
  },
  {
   "cell_type": "code",
   "execution_count": 744,
   "metadata": {},
   "outputs": [],
   "source": [
    "# dropping region_code\n",
    "train_df.drop('region_code', axis=1, inplace=True)"
   ]
  },
  {
   "cell_type": "markdown",
   "metadata": {},
   "source": [
    "#### District code"
   ]
  },
  {
   "cell_type": "code",
   "execution_count": 745,
   "metadata": {},
   "outputs": [
    {
     "data": {
      "text/plain": [
       "1     12203\n",
       "2     11173\n",
       "3      9998\n",
       "4      8999\n",
       "5      4356\n",
       "6      4074\n",
       "7      3343\n",
       "8      1043\n",
       "30      995\n",
       "33      874\n",
       "53      745\n",
       "43      505\n",
       "13      391\n",
       "23      293\n",
       "63      195\n",
       "62      109\n",
       "60       63\n",
       "0        23\n",
       "80       12\n",
       "67        6\n",
       "Name: district_code, dtype: int64"
      ]
     },
     "execution_count": 745,
     "metadata": {},
     "output_type": "execute_result"
    }
   ],
   "source": [
    "# checking value counts\n",
    "train_df[\"district_code\"].value_counts()"
   ]
  },
  {
   "cell_type": "code",
   "execution_count": 746,
   "metadata": {},
   "outputs": [],
   "source": [
    "# dropping the column as it will not be used elsewhere\n",
    "train_df.drop('district_code', axis=1, inplace=True)"
   ]
  },
  {
   "cell_type": "markdown",
   "metadata": {},
   "source": [
    "#### Lga Column"
   ]
  },
  {
   "cell_type": "code",
   "execution_count": 747,
   "metadata": {},
   "outputs": [
    {
     "data": {
      "text/plain": [
       "Njombe          0.042138\n",
       "Arusha Rural    0.021077\n",
       "Moshi Rural     0.021061\n",
       "Bariadi         0.019815\n",
       "Rungwe          0.018620\n",
       "                  ...   \n",
       "Moshi Urban     0.001330\n",
       "Kigoma Urban    0.001195\n",
       "Arusha Urban    0.001061\n",
       "Lindi Urban     0.000354\n",
       "Nyamagana       0.000017\n",
       "Name: lga, Length: 125, dtype: float64"
      ]
     },
     "execution_count": 747,
     "metadata": {},
     "output_type": "execute_result"
    }
   ],
   "source": [
    "# checking column values\n",
    "train_df['lga'].value_counts(dropna = False, normalize=True)\n"
   ]
  },
  {
   "cell_type": "markdown",
   "metadata": {},
   "source": [
    "#### Ward"
   ]
  },
  {
   "cell_type": "code",
   "execution_count": 748,
   "metadata": {},
   "outputs": [
    {
     "data": {
      "text/plain": [
       "Igosi          307\n",
       "Imalinyi       252\n",
       "Siha Kati      232\n",
       "Mdandu         231\n",
       "Nduruma        217\n",
       "              ... \n",
       "Igogo            1\n",
       "Korongoni        1\n",
       "Mawenzi          1\n",
       "Ukata            1\n",
       "Machinjioni      1\n",
       "Name: ward, Length: 2092, dtype: int64"
      ]
     },
     "execution_count": 748,
     "metadata": {},
     "output_type": "execute_result"
    }
   ],
   "source": [
    "# checking column values\n",
    "train_df[\"ward\"].value_counts()"
   ]
  },
  {
   "cell_type": "code",
   "execution_count": 749,
   "metadata": {},
   "outputs": [],
   "source": [
    "# dropping the ward column\n",
    "train_df.drop('ward', axis=1, inplace=True)"
   ]
  },
  {
   "cell_type": "markdown",
   "metadata": {},
   "source": [
    "#### Population"
   ]
  },
  {
   "cell_type": "code",
   "execution_count": 750,
   "metadata": {},
   "outputs": [
    {
     "data": {
      "text/plain": [
       "0       21381\n",
       "1        7025\n",
       "200      1940\n",
       "150      1892\n",
       "250      1681\n",
       "        ...  \n",
       "3241        1\n",
       "1960        1\n",
       "1685        1\n",
       "2248        1\n",
       "1439        1\n",
       "Name: population, Length: 1049, dtype: int64"
      ]
     },
     "execution_count": 750,
     "metadata": {},
     "output_type": "execute_result"
    }
   ],
   "source": [
    "# value counts\n",
    "train_df.population.value_counts(dropna=False)"
   ]
  },
  {
   "cell_type": "markdown",
   "metadata": {},
   "source": [
    "Observation:\n",
    "\n",
    "will keep the zero values for population because there's no evidence that a well cannot exist in an area with no registered population."
   ]
  },
  {
   "cell_type": "markdown",
   "metadata": {},
   "source": [
    "#### Recorded_by column"
   ]
  },
  {
   "cell_type": "code",
   "execution_count": 751,
   "metadata": {},
   "outputs": [
    {
     "data": {
      "text/plain": [
       "GeoData Consultants Ltd    59400\n",
       "Name: recorded_by, dtype: int64"
      ]
     },
     "execution_count": 751,
     "metadata": {},
     "output_type": "execute_result"
    }
   ],
   "source": [
    "# Looking at column values\n",
    "train_df.recorded_by.value_counts(dropna=False)"
   ]
  },
  {
   "cell_type": "markdown",
   "metadata": {},
   "source": [
    "Observation:\n",
    "    \n",
    "As per the value counts there seems to be only one firm that did data recording. so for that reason we would not need this column"
   ]
  },
  {
   "cell_type": "code",
   "execution_count": 752,
   "metadata": {},
   "outputs": [],
   "source": [
    "# dropping the column\n",
    "train_df.drop(\"recorded_by\", axis= 1, inplace= True)"
   ]
  },
  {
   "cell_type": "markdown",
   "metadata": {},
   "source": [
    "#### Extraction columns"
   ]
  },
  {
   "cell_type": "code",
   "execution_count": 753,
   "metadata": {},
   "outputs": [
    {
     "data": {
      "text/plain": [
       "gravity                      26780\n",
       "nira/tanira                   8154\n",
       "other                         6430\n",
       "submersible                   4764\n",
       "swn 80                        3670\n",
       "mono                          2865\n",
       "india mark ii                 2400\n",
       "afridev                       1770\n",
       "ksb                           1415\n",
       "other - rope pump              451\n",
       "other - swn 81                 229\n",
       "windmill                       117\n",
       "india mark iii                  98\n",
       "cemo                            90\n",
       "other - play pump               85\n",
       "walimi                          48\n",
       "climax                          32\n",
       "other - mkulima/shinyanga        2\n",
       "Name: extraction_type, dtype: int64"
      ]
     },
     "execution_count": 753,
     "metadata": {},
     "output_type": "execute_result"
    }
   ],
   "source": [
    "# checking the extraction type, extraction type group and extraction type class\n",
    "#  extraction_type\n",
    "train_df[\"extraction_type\"].value_counts()"
   ]
  },
  {
   "cell_type": "code",
   "execution_count": 754,
   "metadata": {},
   "outputs": [
    {
     "data": {
      "text/plain": [
       "gravity            26780\n",
       "nira/tanira         8154\n",
       "other               6430\n",
       "submersible         6179\n",
       "swn 80              3670\n",
       "mono                2865\n",
       "india mark ii       2400\n",
       "afridev             1770\n",
       "rope pump            451\n",
       "other handpump       364\n",
       "other motorpump      122\n",
       "wind-powered         117\n",
       "india mark iii        98\n",
       "Name: extraction_type_group, dtype: int64"
      ]
     },
     "execution_count": 754,
     "metadata": {},
     "output_type": "execute_result"
    }
   ],
   "source": [
    "# extraction type_group\n",
    "train_df[\"extraction_type_group\"].value_counts()"
   ]
  },
  {
   "cell_type": "code",
   "execution_count": 755,
   "metadata": {},
   "outputs": [
    {
     "data": {
      "text/plain": [
       "gravity         26780\n",
       "handpump        16456\n",
       "other            6430\n",
       "submersible      6179\n",
       "motorpump        2987\n",
       "rope pump         451\n",
       "wind-powered      117\n",
       "Name: extraction_type_class, dtype: int64"
      ]
     },
     "execution_count": 755,
     "metadata": {},
     "output_type": "execute_result"
    }
   ],
   "source": [
    "# extraction type class\n",
    "train_df[\"extraction_type_class\"].value_counts()"
   ]
  },
  {
   "cell_type": "code",
   "execution_count": 756,
   "metadata": {},
   "outputs": [],
   "source": [
    "# Dropping the columns that contain nearly duplicate information\n",
    "train_df.drop(columns=['extraction_type_group', 'extraction_type_class'], \n",
    "        inplace=True)"
   ]
  },
  {
   "cell_type": "markdown",
   "metadata": {},
   "source": [
    "#### Management and management group columns"
   ]
  },
  {
   "cell_type": "code",
   "execution_count": 757,
   "metadata": {},
   "outputs": [
    {
     "data": {
      "text/plain": [
       "vwc                 40507\n",
       "wug                  6515\n",
       "water board          2933\n",
       "wua                  2535\n",
       "private operator     1971\n",
       "parastatal           1768\n",
       "water authority       904\n",
       "other                 844\n",
       "company               685\n",
       "unknown               561\n",
       "other - school         99\n",
       "trust                  78\n",
       "Name: management, dtype: int64"
      ]
     },
     "execution_count": 757,
     "metadata": {},
     "output_type": "execute_result"
    }
   ],
   "source": [
    "# checking the column valuies\n",
    "train_df[\"management\"].value_counts()"
   ]
  },
  {
   "cell_type": "code",
   "execution_count": 758,
   "metadata": {},
   "outputs": [
    {
     "data": {
      "text/plain": [
       "user-group    52490\n",
       "commercial     3638\n",
       "parastatal     1768\n",
       "other           943\n",
       "unknown         561\n",
       "Name: management_group, dtype: int64"
      ]
     },
     "execution_count": 758,
     "metadata": {},
     "output_type": "execute_result"
    }
   ],
   "source": [
    "# management group column\n",
    "train_df[\"management_group\"].value_counts()"
   ]
  },
  {
   "cell_type": "markdown",
   "metadata": {},
   "source": [
    "Observation:\n",
    "    \n",
    "Since both columns play similar role of management, we will have to drop one column particularly management_group because it provides general management class of the organization as opposed to management column that is a bit specific to the managing organization"
   ]
  },
  {
   "cell_type": "code",
   "execution_count": 759,
   "metadata": {},
   "outputs": [],
   "source": [
    "# dropping the management group column\n",
    "train_df.drop(\"management_group\", axis= 1, inplace= True)"
   ]
  },
  {
   "cell_type": "markdown",
   "metadata": {},
   "source": [
    "#### Payment and payment type columns"
   ]
  },
  {
   "cell_type": "code",
   "execution_count": 760,
   "metadata": {},
   "outputs": [
    {
     "data": {
      "text/plain": [
       "never pay                25348\n",
       "pay per bucket            8985\n",
       "pay monthly               8300\n",
       "unknown                   8157\n",
       "pay when scheme fails     3914\n",
       "pay annually              3642\n",
       "other                     1054\n",
       "Name: payment, dtype: int64"
      ]
     },
     "execution_count": 760,
     "metadata": {},
     "output_type": "execute_result"
    }
   ],
   "source": [
    "# checking payment column values\n",
    "train_df[\"payment\"].value_counts()"
   ]
  },
  {
   "cell_type": "code",
   "execution_count": 761,
   "metadata": {},
   "outputs": [
    {
     "data": {
      "text/plain": [
       "never pay     25348\n",
       "per bucket     8985\n",
       "monthly        8300\n",
       "unknown        8157\n",
       "on failure     3914\n",
       "annually       3642\n",
       "other          1054\n",
       "Name: payment_type, dtype: int64"
      ]
     },
     "execution_count": 761,
     "metadata": {},
     "output_type": "execute_result"
    }
   ],
   "source": [
    "# checking payment type column values\n",
    "train_df[\"payment_type\"].value_counts()"
   ]
  },
  {
   "cell_type": "markdown",
   "metadata": {},
   "source": [
    "Observation:\n",
    "    \n",
    "Both the payment and the payment type consist of same information, we will have to drop one"
   ]
  },
  {
   "cell_type": "code",
   "execution_count": 762,
   "metadata": {},
   "outputs": [],
   "source": [
    "# dropping payment type column\n",
    "train_df.drop(\"payment\", axis= 1, inplace= True)"
   ]
  },
  {
   "cell_type": "markdown",
   "metadata": {},
   "source": [
    "#### Water quality "
   ]
  },
  {
   "cell_type": "code",
   "execution_count": 763,
   "metadata": {},
   "outputs": [
    {
     "data": {
      "text/plain": [
       "soft                  50818\n",
       "salty                  4856\n",
       "unknown                1876\n",
       "milky                   804\n",
       "coloured                490\n",
       "salty abandoned         339\n",
       "fluoride                200\n",
       "fluoride abandoned       17\n",
       "Name: water_quality, dtype: int64"
      ]
     },
     "execution_count": 763,
     "metadata": {},
     "output_type": "execute_result"
    }
   ],
   "source": [
    "# checking column values\n",
    "train_df[\"water_quality\"].value_counts()"
   ]
  },
  {
   "cell_type": "markdown",
   "metadata": {},
   "source": [
    "#### Quality group"
   ]
  },
  {
   "cell_type": "code",
   "execution_count": 764,
   "metadata": {},
   "outputs": [
    {
     "data": {
      "text/plain": [
       "good        50818\n",
       "salty        5195\n",
       "unknown      1876\n",
       "milky         804\n",
       "colored       490\n",
       "fluoride      217\n",
       "Name: quality_group, dtype: int64"
      ]
     },
     "execution_count": 764,
     "metadata": {},
     "output_type": "execute_result"
    }
   ],
   "source": [
    "# check the quality group values\n",
    "train_df[\"quality_group\"].value_counts()"
   ]
  },
  {
   "cell_type": "markdown",
   "metadata": {},
   "source": [
    "Observation:\n",
    "\n",
    "The above columns nearly consist of similar information, therefore we will have to drop one \n"
   ]
  },
  {
   "cell_type": "code",
   "execution_count": 765,
   "metadata": {},
   "outputs": [],
   "source": [
    "# dropping quality group\n",
    "train_df.drop(\"quality_group\", axis= 1, inplace= True)"
   ]
  },
  {
   "cell_type": "markdown",
   "metadata": {},
   "source": [
    "#### Quantity and quantity group columns"
   ]
  },
  {
   "cell_type": "code",
   "execution_count": 766,
   "metadata": {},
   "outputs": [
    {
     "data": {
      "text/plain": [
       "enough          33186\n",
       "insufficient    15129\n",
       "dry              6246\n",
       "seasonal         4050\n",
       "unknown           789\n",
       "Name: quantity, dtype: int64"
      ]
     },
     "execution_count": 766,
     "metadata": {},
     "output_type": "execute_result"
    }
   ],
   "source": [
    "train_df[\"quantity\"].value_counts()"
   ]
  },
  {
   "cell_type": "code",
   "execution_count": 767,
   "metadata": {},
   "outputs": [
    {
     "data": {
      "text/plain": [
       "enough          33186\n",
       "insufficient    15129\n",
       "dry              6246\n",
       "seasonal         4050\n",
       "unknown           789\n",
       "Name: quantity_group, dtype: int64"
      ]
     },
     "execution_count": 767,
     "metadata": {},
     "output_type": "execute_result"
    }
   ],
   "source": [
    "# quantity_group column\n",
    "train_df[\"quantity_group\"].value_counts()"
   ]
  },
  {
   "cell_type": "code",
   "execution_count": 768,
   "metadata": {},
   "outputs": [],
   "source": [
    "# dropping quantity column as it has simillar information\n",
    "train_df.drop(\"quantity_group\", axis= 1, inplace= True)"
   ]
  },
  {
   "cell_type": "markdown",
   "metadata": {},
   "source": [
    "#### Source , source_type, source_class Columns"
   ]
  },
  {
   "cell_type": "code",
   "execution_count": 769,
   "metadata": {},
   "outputs": [
    {
     "data": {
      "text/plain": [
       "source                source_type           source_class\n",
       "spring                spring                groundwater     17021\n",
       "shallow well          shallow well          groundwater     16824\n",
       "machine dbh           borehole              groundwater     11075\n",
       "river                 river/lake            surface          9612\n",
       "rainwater harvesting  rainwater harvesting  surface          2295\n",
       "hand dtw              borehole              groundwater       874\n",
       "lake                  river/lake            surface           765\n",
       "dam                   dam                   surface           656\n",
       "other                 other                 unknown           212\n",
       "unknown               other                 unknown            66\n",
       "dtype: int64"
      ]
     },
     "execution_count": 769,
     "metadata": {},
     "output_type": "execute_result"
    }
   ],
   "source": [
    "train_df[[\"source\", \"source_type\", \"source_class\",]].value_counts()"
   ]
  },
  {
   "cell_type": "markdown",
   "metadata": {},
   "source": [
    "Observation:\n",
    "    \n",
    "The columns have pretty similar information, we will drop source type and source class column"
   ]
  },
  {
   "cell_type": "code",
   "execution_count": 770,
   "metadata": {},
   "outputs": [],
   "source": [
    "# dropping source_type and source_class columns\n",
    "train_df.drop([\"source_class\", \"source_type\"], axis= 1, inplace= True)"
   ]
  },
  {
   "cell_type": "markdown",
   "metadata": {},
   "source": [
    "#### Waterpoint_type and waterpoint_group columns"
   ]
  },
  {
   "cell_type": "code",
   "execution_count": 771,
   "metadata": {},
   "outputs": [
    {
     "data": {
      "text/plain": [
       "communal standpipe             28522\n",
       "hand pump                      17488\n",
       "other                           6380\n",
       "communal standpipe multiple     6103\n",
       "improved spring                  784\n",
       "cattle trough                    116\n",
       "dam                                7\n",
       "Name: waterpoint_type, dtype: int64"
      ]
     },
     "execution_count": 771,
     "metadata": {},
     "output_type": "execute_result"
    }
   ],
   "source": [
    "# checking values\n",
    "train_df[\"waterpoint_type\"].value_counts()"
   ]
  },
  {
   "cell_type": "code",
   "execution_count": 772,
   "metadata": {},
   "outputs": [
    {
     "data": {
      "text/plain": [
       "communal standpipe    34625\n",
       "hand pump             17488\n",
       "other                  6380\n",
       "improved spring         784\n",
       "cattle trough           116\n",
       "dam                       7\n",
       "Name: waterpoint_type_group, dtype: int64"
      ]
     },
     "execution_count": 772,
     "metadata": {},
     "output_type": "execute_result"
    }
   ],
   "source": [
    "# waterpoint_type_group\n",
    "train_df[\"waterpoint_type_group\"].value_counts()"
   ]
  },
  {
   "cell_type": "code",
   "execution_count": 773,
   "metadata": {},
   "outputs": [],
   "source": [
    "# dropping one columns because they have simillar information\n",
    "train_df.drop(\"waterpoint_type_group\", axis= 1, inplace= True)"
   ]
  },
  {
   "cell_type": "code",
   "execution_count": 774,
   "metadata": {},
   "outputs": [
    {
     "name": "stdout",
     "output_type": "stream",
     "text": [
      "<class 'pandas.core.frame.DataFrame'>\n",
      "Int64Index: 59400 entries, 69572 to 26348\n",
      "Data columns (total 23 columns):\n",
      " #   Column             Non-Null Count  Dtype         \n",
      "---  ------             --------------  -----         \n",
      " 0   amount_tsh         59400 non-null  int64         \n",
      " 1   date_recorded      59400 non-null  datetime64[ns]\n",
      " 2   funder             59400 non-null  object        \n",
      " 3   gps_height         59400 non-null  int64         \n",
      " 4   installer          59400 non-null  object        \n",
      " 5   longitude          59400 non-null  float64       \n",
      " 6   latitude           59400 non-null  float64       \n",
      " 7   basin              59400 non-null  object        \n",
      " 8   region             59400 non-null  object        \n",
      " 9   lga                59400 non-null  object        \n",
      " 10  population         59400 non-null  int64         \n",
      " 11  public_meeting     59400 non-null  object        \n",
      " 12  scheme_management  59400 non-null  object        \n",
      " 13  permit             59400 non-null  object        \n",
      " 14  construction_year  59400 non-null  float64       \n",
      " 15  extraction_type    59400 non-null  object        \n",
      " 16  management         59400 non-null  object        \n",
      " 17  payment_type       59400 non-null  object        \n",
      " 18  water_quality      59400 non-null  object        \n",
      " 19  quantity           59400 non-null  object        \n",
      " 20  source             59400 non-null  object        \n",
      " 21  waterpoint_type    59400 non-null  object        \n",
      " 22  status_group       59400 non-null  object        \n",
      "dtypes: datetime64[ns](1), float64(3), int64(3), object(16)\n",
      "memory usage: 10.9+ MB\n"
     ]
    }
   ],
   "source": [
    "# checking the remaining columns\n",
    "train_df.info()"
   ]
  },
  {
   "cell_type": "code",
   "execution_count": 775,
   "metadata": {},
   "outputs": [
    {
     "data": {
      "text/plain": [
       "amount_tsh           0\n",
       "date_recorded        0\n",
       "funder               0\n",
       "gps_height           0\n",
       "installer            0\n",
       "longitude            0\n",
       "latitude             0\n",
       "basin                0\n",
       "region               0\n",
       "lga                  0\n",
       "population           0\n",
       "public_meeting       0\n",
       "scheme_management    0\n",
       "permit               0\n",
       "construction_year    0\n",
       "extraction_type      0\n",
       "management           0\n",
       "payment_type         0\n",
       "water_quality        0\n",
       "quantity             0\n",
       "source               0\n",
       "waterpoint_type      0\n",
       "status_group         0\n",
       "dtype: int64"
      ]
     },
     "execution_count": 775,
     "metadata": {},
     "output_type": "execute_result"
    }
   ],
   "source": [
    "# checking for null values \n",
    "train_df.isna().sum()"
   ]
  },
  {
   "cell_type": "code",
   "execution_count": 776,
   "metadata": {},
   "outputs": [
    {
     "data": {
      "text/plain": [
       "functional                 0.543081\n",
       "non functional             0.384242\n",
       "functional needs repair    0.072677\n",
       "Name: status_group, dtype: float64"
      ]
     },
     "execution_count": 776,
     "metadata": {},
     "output_type": "execute_result"
    }
   ],
   "source": [
    "# checking value_counts of the target variable\n",
    "train_df.status_group.value_counts(dropna= False, normalize= True)"
   ]
  },
  {
   "cell_type": "markdown",
   "metadata": {},
   "source": [
    "Observation: \n",
    "\n",
    "Majority of wells are functional(54%), but there is still a significant proportion that are neither non-functionall nor need repair(about 45%)\n",
    "There is a major class imbalance as functional wells are much more common than those that are non-function and also those that need repair\n",
    "We may need SMOTE technique to solve the imbalance problem"
   ]
  },
  {
   "cell_type": "markdown",
   "metadata": {},
   "source": [
    "## EDA"
   ]
  },
  {
   "cell_type": "markdown",
   "metadata": {},
   "source": [
    "### univariate analysis\n",
    "\n",
    "* The focus is on numerical features\n",
    "* we are going to plot histograms, KDE plots and box plots to check distribution and outliers"
   ]
  },
  {
   "cell_type": "code",
   "execution_count": 306,
   "metadata": {
    "code_folding": []
   },
   "outputs": [
    {
     "data": {
      "text/plain": [
       "Index(['amount_tsh', 'gps_height', 'longitude', 'latitude', 'population',\n",
       "       'construction_year', 'well_age'],\n",
       "      dtype='object')"
      ]
     },
     "execution_count": 306,
     "metadata": {},
     "output_type": "execute_result"
    }
   ],
   "source": [
    "# identifying categorical columns\n",
    "\n",
    "numeric_cols = train_df.select_dtypes(include=['int64', 'float64']).columns\n",
    "numeric_cols\n",
    "\n",
    "\n",
    "\n",
    "# plt.figure(figsize=(6,4))\n",
    "# sns.histplot(train_df[col], kde=True)\n",
    "# plt.title(f\"Distribution of {col}\")\n",
    "# plt.show()"
   ]
  },
  {
   "cell_type": "code",
   "execution_count": 345,
   "metadata": {},
   "outputs": [
    {
     "data": {
      "text/plain": [
       " 0       20438\n",
       "-15         60\n",
       "-16         55\n",
       "-13         55\n",
       "-20         52\n",
       "         ...  \n",
       " 2285        1\n",
       " 2424        1\n",
       " 2552        1\n",
       " 2413        1\n",
       " 2385        1\n",
       "Name: gps_height, Length: 2428, dtype: int64"
      ]
     },
     "execution_count": 345,
     "metadata": {},
     "output_type": "execute_result"
    }
   ],
   "source": [
    "train_df['gps_height'].value_counts()"
   ]
  },
  {
   "cell_type": "code",
   "execution_count": 344,
   "metadata": {},
   "outputs": [
    {
     "data": {
      "image/png": "[encoded data removed]",
      "text/plain": [
       "<Figure size 576x576 with 1 Axes>"
      ]
     },
     "metadata": {
      "needs_background": "light"
     },
     "output_type": "display_data"
    }
   ],
   "source": [
    "# gps_height distribution\n",
    "plt.figure(figsize=(8,8))\n",
    "sns.histplot(train_df['gps_height'], bins= 10)\n",
    "plt.title(\"Distribution of Population\")\n",
    "plt.xlabel(\"Population\")\n",
    "plt.ylabel(\"Frequency\")\n",
    "plt.show()\n"
   ]
  },
  {
   "cell_type": "code",
   "execution_count": null,
   "metadata": {},
   "outputs": [],
   "source": []
  },
  {
   "cell_type": "code",
   "execution_count": 342,
   "metadata": {},
   "outputs": [
    {
     "data": {
      "image/png": "[encoded data removed]",
      "text/plain": [
       "<Figure size 720x360 with 1 Axes>"
      ]
     },
     "metadata": {
      "needs_background": "light"
     },
     "output_type": "display_data"
    }
   ],
   "source": [
    "\n",
    "plt.figure(figsize=(10, 5))\n",
    "sns.histplot(train_df['population'], bins= 5)\n",
    "plt.title(\"Distribution of Population\")\n",
    "plt.xlabel(\"Population\")\n",
    "plt.ylabel(\"Frequency\")\n",
    "plt.show()"
   ]
  },
  {
   "cell_type": "code",
   "execution_count": 337,
   "metadata": {},
   "outputs": [
    {
     "data": {
      "image/png": "[encoded data removed]",
      "text/plain": [
       "<Figure size 720x360 with 1 Axes>"
      ]
     },
     "metadata": {
      "needs_background": "light"
     },
     "output_type": "display_data"
    }
   ],
   "source": [
    "# distribution of wells constucted per year\n",
    "\n",
    "\n",
    "plt.figure(figsize=(10,5))\n",
    "sns.histplot(train_df[\"construction_year\"], bins=5, kde=False)\n",
    "plt.title(\"Distribution of Wells by Construction Year\")\n",
    "plt.xlabel(\"Construction Year\")\n",
    "plt.ylabel(\"Number of Wells\")\n",
    "plt.xticks(rotation=45)\n",
    "plt.show()"
   ]
  },
  {
   "cell_type": "markdown",
   "metadata": {},
   "source": [
    "Observation:\n",
    "    \n",
    "The distribution of wells by construction year shows that the number increases over time. the highest number of wells were constructed in the most recent years."
   ]
  },
  {
   "cell_type": "code",
   "execution_count": 331,
   "metadata": {},
   "outputs": [
    {
     "data": {
      "image/png": "[encoded data removed]",
      "text/plain": [
       "<Figure size 720x360 with 1 Axes>"
      ]
     },
     "metadata": {
      "needs_background": "light"
     },
     "output_type": "display_data"
    }
   ],
   "source": [
    "# \n",
    "# Count wells per year\n",
    "year_counts = train_df[\"date_recorded\"].dt.year.value_counts().sort_index()\n",
    "\n",
    "year_counts\n",
    "plt.figure(figsize=(10,5))\n",
    "year_counts.plot(kind='bar')\n",
    "plt.title(\"Number of Wells Recorded Per Year\")\n",
    "plt.xlabel(\"Recorded Year\")\n",
    "plt.ylabel(\"Number of Wells\")\n",
    "plt.xticks(rotation=45)\n",
    "plt.show()"
   ]
  },
  {
   "cell_type": "markdown",
   "metadata": {},
   "source": [
    "Observation:\n",
    "    \n",
    "The majority of wells were recorded between 2011 and 2013, with 2011 showing the highest number of records. Very few wells were recorded before 2011, and almost none before 2002. This suggests that data collection efforts were concentrated in the early 2010s, likely due to large-scale government or NGO surveys. As a result, the dataset primarily reflects the state of water points during this period rather than over the entire lifetime of the wells. "
   ]
  },
  {
   "cell_type": "code",
   "execution_count": null,
   "metadata": {},
   "outputs": [],
   "source": [
    "plt.hist(train_df[\"gps_height\"], bins=5)\n",
    "plt.xlabel(\"Altitude (m)\")\n",
    "plt.ylabel(\"Count\")\n",
    "plt.title(\"Distribution of Altitudes (Excluding Zero)\")\n",
    "plt.show()"
   ]
  }
 ],
 "metadata": {
  "kernelspec": {
   "display_name": "Python (learn-env)",
   "language": "python",
   "name": "learn-env"
  },
  "language_info": {
   "codemirror_mode": {
    "name": "ipython",
    "version": 3
   },
   "file_extension": ".py",
   "mimetype": "text/x-python",
   "name": "python",
   "nbconvert_exporter": "python",
   "pygments_lexer": "ipython3",
   "version": "3.8.5"
  },
  "varInspector": {
   "cols": {
    "lenName": 16,
    "lenType": 16,
    "lenVar": 40
   },
   "kernels_config": {
    "python": {
     "delete_cmd_postfix": "",
     "delete_cmd_prefix": "del ",
     "library": "var_list.py",
     "varRefreshCmd": "print(var_dic_list())"
    },
    "r": {
     "delete_cmd_postfix": ") ",
     "delete_cmd_prefix": "rm(",
     "library": "var_list.r",
     "varRefreshCmd": "cat(var_dic_list()) "
    }
   },
   "types_to_exclude": [
    "module",
    "function",
    "builtin_function_or_method",
    "instance",
    "_Feature"
   ],
   "window_display": false
  }
 },
 "nbformat": 4,
 "nbformat_minor": 4
}
